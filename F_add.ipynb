{
 "cells": [
  {
   "cell_type": "code",
   "execution_count": 88,
   "id": "8967c462-1ba5-4e82-8b66-623e6bf5fe9b",
   "metadata": {},
   "outputs": [
    {
     "name": "stdin",
     "output_type": "stream",
     "text": [
      "Once deleted, variables cannot be recovered. Proceed (y/[n])?  y\n"
     ]
    }
   ],
   "source": [
    "%reset"
   ]
  },
  {
   "cell_type": "markdown",
   "id": "9f47a680-d314-485e-8f4c-615b5975e4aa",
   "metadata": {
    "tags": []
   },
   "source": [
    "## 既存の帰属度、目的関数からFの値を算出"
   ]
  },
  {
   "cell_type": "markdown",
   "id": "a6c2becb-b390-4a68-aa17-d3bf8b2675b1",
   "metadata": {
    "tags": []
   },
   "source": [
    "# 新たな評価関数をFとする  $$F=J+u_{ki}*d_{ii^*}$$"
   ]
  },
  {
   "cell_type": "code",
   "execution_count": 1,
   "id": "8d3f03ec-7eab-42f2-ae4c-c438efd000eb",
   "metadata": {},
   "outputs": [],
   "source": [
    "import pandas as pd\n",
    "import numpy as np\n",
    "import matplotlib.pyplot as plt\n",
    "import cvxpy as cp\n",
    "#sysはコマンドライン引数\n",
    "import sys\n",
    "import csv"
   ]
  },
  {
   "cell_type": "code",
   "execution_count": 2,
   "id": "ed835990-1884-414c-bf54-161312ca410d",
   "metadata": {},
   "outputs": [],
   "source": [
    "#クラスタ中心計算部分関数作成\n",
    "def v_calculation(u_m,c,dimension,X):\n",
    "    #分母計算(クラスタサイズになるはず)\n",
    "    v_denominator = np.sum(u_m,axis=0)\n",
    "    \n",
    "    #分子計算\n",
    "    v_numerator = np.zeros((c,dimension))\n",
    "    for j in range(c):\n",
    "        for i in range(X_size):\n",
    "            v_numerator[j]+= u_m[i][j]*X[i]\n",
    "   \n",
    "    v = np.zeros((c,dimension ))\n",
    "    for i in range(c):\n",
    "        v[i] = v_numerator[i]/v_denominator[i]\n",
    "    return v"
   ]
  },
  {
   "cell_type": "markdown",
   "id": "0eed3149-061a-42d5-bec9-2720bd049d7f",
   "metadata": {},
   "source": [
    "## csvファイルから変数を抽出"
   ]
  },
  {
   "cell_type": "code",
   "execution_count": 3,
   "id": "171ed244-1939-4ec2-9ac3-6b9a9f8bb571",
   "metadata": {},
   "outputs": [
    {
     "name": "stdout",
     "output_type": "stream",
     "text": [
      "   sepal_length  sepal_width  petal_length  petal_width  cluster        u0  \\\n",
      "0           5.1          3.5           1.4          0.2      1.0  0.060611   \n",
      "1           4.9          3.0           1.4          0.2      1.0  0.108113   \n",
      "2           4.7          3.2           1.3          0.2      1.0  0.101756   \n",
      "3           4.6          3.1           1.5          0.2      1.0  0.122551   \n",
      "4           5.0          3.6           1.4          0.2      1.0  0.070286   \n",
      "\n",
      "         u1        u2          J           F  \n",
      "0  0.885228  0.054161  29.289736  835.958407  \n",
      "1  0.810330  0.081557  29.289736  835.958407  \n",
      "2  0.820053  0.078190  29.289736  835.958407  \n",
      "3  0.786852  0.090597  29.289736  835.958407  \n",
      "4  0.870102  0.059612  29.289736  835.958407  \n",
      "J 29.289735663504533\n",
      "F 835.9584066789748\n"
     ]
    }
   ],
   "source": [
    "#_______________入力ファイルやパラメータ指定部分_______________\n",
    "c = 3\n",
    "\n",
    "#正則化パラメーター設定\n",
    "lam = 10\n",
    "lam_1= 1/lam\n",
    "\n",
    "m = 3\n",
    "np.seterr(divide='ignore', invalid='ignore')\n",
    "#csvファイルの読み込み\n",
    "df = pd.read_csv(\"Iris-m3.csv\")\n",
    "#__________________________________________\n",
    "print(df.head())\n",
    "df = df[:150]\n",
    "J = df.J[0]\n",
    "F = df.F[0]\n",
    "print(\"J\",J)\n",
    "print(\"F\",F)\n",
    "\n",
    "#Uの抽出\n",
    "u_pd = []\n",
    "for i in range(c):\n",
    "    u_pd.append(\"u{}\".format(i))\n",
    "df_u = df.loc[:,u_pd]\n",
    "u = df_u.values\n",
    "\n",
    "#Xの抽出\n",
    "df_X = df.loc[:,\"sepal_length\":\"petal_width\"]\n",
    "# df_X = df.loc[:,\"0\":\"1\"]\n",
    "\n",
    "#dfをnumpyで扱えるnp.ndarray変換\n",
    "X = df_X.values\n",
    "X = X.astype('float64')\n",
    "#配列の行数、列数の格納\n",
    "X_size,dimension = X.shape\n",
    "cluster = df[\"cluster\"].values\n",
    "\n",
    "u_m = u**m\n",
    "v = v_calculation(u_m,c,dimension,X)"
   ]
  },
  {
   "cell_type": "markdown",
   "id": "64e21032-1956-43e7-b048-726460316571",
   "metadata": {
    "tags": []
   },
   "source": [
    "## Fの算出セル"
   ]
  },
  {
   "cell_type": "code",
   "execution_count": 88,
   "id": "55194224-34d8-4ee7-9755-750575fc0276",
   "metadata": {},
   "outputs": [
    {
     "name": "stdout",
     "output_type": "stream",
     "text": [
      "center_distance\n",
      "[[ 0.         10.49720232  2.45073051]\n",
      " [10.49720232  0.         22.12095316]\n",
      " [ 2.45073051 22.12095316  0.        ]]\n",
      "d_{ki}\n",
      "[11.11955116  0.03304539 22.8112015 ]\n",
      "d_{ki}+d_{ii*}\n",
      "[2.16167535e+01 3.30453901e-02 4.49321547e+01]\n",
      "Jの値: 29.289735663504533\n",
      "Fの値: 835.9584066789752\n"
     ]
    }
   ],
   "source": [
    "u_m = u**m\n",
    "v = v_calculation(u_m,c,dimension,X)\n",
    "\n",
    "#中心間距離の作成\n",
    "center_distance = np.zeros((c,c))\n",
    "for i in range(c):\n",
    "        center_distance[i]= np.sum((v[i]-v)**2,axis=1)\n",
    "print(\"center_distance\")\n",
    "print(center_distance)\n",
    "#dにはd11,d12,d13,d14,d21,d22,,,dn1,,dncの順でリスト作る\n",
    "d = np.zeros((X_size,c))\n",
    "for i in range(X_size):\n",
    "    d[i] = np.sum((X[i]-v)**2,axis=1)\n",
    "print(\"d_{ki}\")\n",
    "print(d[0])\n",
    "\n",
    "#ここが怪しい\n",
    "for i in range(c):\n",
    "    d[cluster == i] = d[cluster == i]+center_distance[i]\n",
    "print(\"d_{ki}+d_{ii*}\")\n",
    "print(d[0])\n",
    "\n",
    "#評価関数計算\n",
    "F = 0\n",
    "for i in range(X_size):\n",
    "    F += np.sum(u[i] * d[i])\n",
    "# for i in range(X_size):\n",
    "#     for j in range(c):\n",
    "#         F += u[i][j] * d[i][j]\n",
    "        \n",
    "        \n",
    "#この初期値のときの結果が優れている場合，bestを更新\n",
    "print(\"Jの値:\",J)\n",
    "print(\"Fの値:\",F)"
   ]
  },
  {
   "cell_type": "markdown",
   "id": "2d933c29-01bc-4ae0-b6b0-307c75e06c15",
   "metadata": {
    "tags": []
   },
   "source": [
    "##　関数化"
   ]
  },
  {
   "cell_type": "code",
   "execution_count": 94,
   "id": "29f46ecc-87ef-4cfd-9c63-6419059b1409",
   "metadata": {},
   "outputs": [],
   "source": [
    "#引数(クラスタ数(c),クラスター(cluster),データセット(X),クラスター中心(v)、\\\n",
    "#ファジィ化パラム(m)、帰属度(u))\n",
    "\n",
    "def calc_F(c,cluster,X,v,m,u):\n",
    "    #中心間距離の作成\n",
    "    center_distance = np.zeros((c,c))\n",
    "    for i in range(c):\n",
    "        center_distance[i]= np.sum((v[i]-v)**2,axis=1)\n",
    "    print(\"center_distance\")\n",
    "    print(center_distance)\n",
    "    #dにはd11,d12,d13,d14,d21,d22,,,dn1,,dncの順でリスト作る\n",
    "    d = np.zeros((X_size,c))\n",
    "    for i in range(X_size):\n",
    "        d[i] = np.sum((X[i]-v)**2,axis=1)\n",
    "    # print(\"d_{ki}\")\n",
    "    # print(d[0])\n",
    "\n",
    "    new_d = np.zeros((X_size,c))\n",
    "    #ここが怪しい\n",
    "    for i in range(c):\n",
    "        new_d[cluster == i] = d[cluster == i]+center_distance[i]\n",
    "    # print(\"new_d{ki} = d_{ki}+d_{ii*}\")\n",
    "    # print(new_d[0])\n",
    "\n",
    "    #評価関数計算(ついでにJも再計算してあってるか確認)\n",
    "    F = 0\n",
    "    kakunin_J = 0\n",
    "    u_m = u**m\n",
    "    for i in range(X_size):\n",
    "        F += np.sum(u[i] * new_d[i])\n",
    "        kakunin_J += np.sum(u_m[i] * d[i])\n",
    "\n",
    "\n",
    "    #この初期値のときの結果が優れている場合，bestを更新\n",
    "    print(\"Jの値:\",J)\n",
    "    print(\"Jの値を再計算:\",kakunin_J)\n",
    "    print(\"Fの値:\",F)\n",
    "    return F"
   ]
  },
  {
   "cell_type": "code",
   "execution_count": 95,
   "id": "6d788824-e381-4541-994f-37dc338379ea",
   "metadata": {},
   "outputs": [
    {
     "name": "stdout",
     "output_type": "stream",
     "text": [
      "center_distance\n",
      "[[ 0.         10.49720232  2.45073051]\n",
      " [10.49720232  0.         22.12095316]\n",
      " [ 2.45073051 22.12095316  0.        ]]\n",
      "Jの値: 29.289735663504533\n",
      "Jの値を再計算: 29.289735663503222\n",
      "Fの値: 835.9584066789752\n"
     ]
    }
   ],
   "source": [
    "F = calc_F(c,cluster,X,v,m,u)"
   ]
  },
  {
   "cell_type": "markdown",
   "id": "7811f7c2-8e59-4642-968b-2b6d9722ab4a",
   "metadata": {
    "tags": []
   },
   "source": [
    "## csvファイルへの書き出し"
   ]
  },
  {
   "cell_type": "code",
   "execution_count": 101,
   "id": "4322fc74-ac2c-4eaf-a338-f528d2b1128a",
   "metadata": {},
   "outputs": [
    {
     "data": {
      "text/html": [
       "<div>\n",
       "<style scoped>\n",
       "    .dataframe tbody tr th:only-of-type {\n",
       "        vertical-align: middle;\n",
       "    }\n",
       "\n",
       "    .dataframe tbody tr th {\n",
       "        vertical-align: top;\n",
       "    }\n",
       "\n",
       "    .dataframe thead th {\n",
       "        text-align: right;\n",
       "    }\n",
       "</style>\n",
       "<table border=\"1\" class=\"dataframe\">\n",
       "  <thead>\n",
       "    <tr style=\"text-align: right;\">\n",
       "      <th></th>\n",
       "      <th>sepal_length</th>\n",
       "      <th>sepal_width</th>\n",
       "      <th>petal_length</th>\n",
       "      <th>petal_width</th>\n",
       "      <th>cluster</th>\n",
       "      <th>u0</th>\n",
       "      <th>u1</th>\n",
       "      <th>u2</th>\n",
       "      <th>J</th>\n",
       "      <th>F</th>\n",
       "    </tr>\n",
       "  </thead>\n",
       "  <tbody>\n",
       "    <tr>\n",
       "      <th>0</th>\n",
       "      <td>5.1</td>\n",
       "      <td>3.5</td>\n",
       "      <td>1.4</td>\n",
       "      <td>0.2</td>\n",
       "      <td>1.0</td>\n",
       "      <td>0.060611</td>\n",
       "      <td>0.885228</td>\n",
       "      <td>0.054161</td>\n",
       "      <td>29.289736</td>\n",
       "      <td>835.958407</td>\n",
       "    </tr>\n",
       "    <tr>\n",
       "      <th>1</th>\n",
       "      <td>4.9</td>\n",
       "      <td>3.0</td>\n",
       "      <td>1.4</td>\n",
       "      <td>0.2</td>\n",
       "      <td>1.0</td>\n",
       "      <td>0.108113</td>\n",
       "      <td>0.810330</td>\n",
       "      <td>0.081557</td>\n",
       "      <td>29.289736</td>\n",
       "      <td>835.958407</td>\n",
       "    </tr>\n",
       "    <tr>\n",
       "      <th>2</th>\n",
       "      <td>4.7</td>\n",
       "      <td>3.2</td>\n",
       "      <td>1.3</td>\n",
       "      <td>0.2</td>\n",
       "      <td>1.0</td>\n",
       "      <td>0.101756</td>\n",
       "      <td>0.820053</td>\n",
       "      <td>0.078190</td>\n",
       "      <td>29.289736</td>\n",
       "      <td>835.958407</td>\n",
       "    </tr>\n",
       "    <tr>\n",
       "      <th>3</th>\n",
       "      <td>4.6</td>\n",
       "      <td>3.1</td>\n",
       "      <td>1.5</td>\n",
       "      <td>0.2</td>\n",
       "      <td>1.0</td>\n",
       "      <td>0.122551</td>\n",
       "      <td>0.786852</td>\n",
       "      <td>0.090597</td>\n",
       "      <td>29.289736</td>\n",
       "      <td>835.958407</td>\n",
       "    </tr>\n",
       "    <tr>\n",
       "      <th>4</th>\n",
       "      <td>5.0</td>\n",
       "      <td>3.6</td>\n",
       "      <td>1.4</td>\n",
       "      <td>0.2</td>\n",
       "      <td>1.0</td>\n",
       "      <td>0.070286</td>\n",
       "      <td>0.870102</td>\n",
       "      <td>0.059612</td>\n",
       "      <td>29.289736</td>\n",
       "      <td>835.958407</td>\n",
       "    </tr>\n",
       "    <tr>\n",
       "      <th>...</th>\n",
       "      <td>...</td>\n",
       "      <td>...</td>\n",
       "      <td>...</td>\n",
       "      <td>...</td>\n",
       "      <td>...</td>\n",
       "      <td>...</td>\n",
       "      <td>...</td>\n",
       "      <td>...</td>\n",
       "      <td>...</td>\n",
       "      <td>...</td>\n",
       "    </tr>\n",
       "    <tr>\n",
       "      <th>145</th>\n",
       "      <td>6.7</td>\n",
       "      <td>3.0</td>\n",
       "      <td>5.2</td>\n",
       "      <td>2.3</td>\n",
       "      <td>2.0</td>\n",
       "      <td>0.181321</td>\n",
       "      <td>0.054109</td>\n",
       "      <td>0.764570</td>\n",
       "      <td>29.289736</td>\n",
       "      <td>835.958407</td>\n",
       "    </tr>\n",
       "    <tr>\n",
       "      <th>146</th>\n",
       "      <td>6.3</td>\n",
       "      <td>2.5</td>\n",
       "      <td>5.0</td>\n",
       "      <td>1.9</td>\n",
       "      <td>2.0</td>\n",
       "      <td>0.396489</td>\n",
       "      <td>0.088777</td>\n",
       "      <td>0.514734</td>\n",
       "      <td>29.289736</td>\n",
       "      <td>835.958407</td>\n",
       "    </tr>\n",
       "    <tr>\n",
       "      <th>147</th>\n",
       "      <td>6.5</td>\n",
       "      <td>3.0</td>\n",
       "      <td>5.2</td>\n",
       "      <td>2.0</td>\n",
       "      <td>2.0</td>\n",
       "      <td>0.173925</td>\n",
       "      <td>0.041181</td>\n",
       "      <td>0.784894</td>\n",
       "      <td>29.289736</td>\n",
       "      <td>835.958407</td>\n",
       "    </tr>\n",
       "    <tr>\n",
       "      <th>148</th>\n",
       "      <td>6.2</td>\n",
       "      <td>3.4</td>\n",
       "      <td>5.4</td>\n",
       "      <td>2.3</td>\n",
       "      <td>2.0</td>\n",
       "      <td>0.257683</td>\n",
       "      <td>0.084530</td>\n",
       "      <td>0.657787</td>\n",
       "      <td>29.289736</td>\n",
       "      <td>835.958407</td>\n",
       "    </tr>\n",
       "    <tr>\n",
       "      <th>149</th>\n",
       "      <td>5.9</td>\n",
       "      <td>3.0</td>\n",
       "      <td>5.1</td>\n",
       "      <td>1.8</td>\n",
       "      <td>2.0</td>\n",
       "      <td>0.432544</td>\n",
       "      <td>0.091590</td>\n",
       "      <td>0.475866</td>\n",
       "      <td>29.289736</td>\n",
       "      <td>835.958407</td>\n",
       "    </tr>\n",
       "  </tbody>\n",
       "</table>\n",
       "<p>150 rows × 10 columns</p>\n",
       "</div>"
      ],
      "text/plain": [
       "     sepal_length  sepal_width  petal_length  petal_width  cluster        u0  \\\n",
       "0             5.1          3.5           1.4          0.2      1.0  0.060611   \n",
       "1             4.9          3.0           1.4          0.2      1.0  0.108113   \n",
       "2             4.7          3.2           1.3          0.2      1.0  0.101756   \n",
       "3             4.6          3.1           1.5          0.2      1.0  0.122551   \n",
       "4             5.0          3.6           1.4          0.2      1.0  0.070286   \n",
       "..            ...          ...           ...          ...      ...       ...   \n",
       "145           6.7          3.0           5.2          2.3      2.0  0.181321   \n",
       "146           6.3          2.5           5.0          1.9      2.0  0.396489   \n",
       "147           6.5          3.0           5.2          2.0      2.0  0.173925   \n",
       "148           6.2          3.4           5.4          2.3      2.0  0.257683   \n",
       "149           5.9          3.0           5.1          1.8      2.0  0.432544   \n",
       "\n",
       "           u1        u2          J           F  \n",
       "0    0.885228  0.054161  29.289736  835.958407  \n",
       "1    0.810330  0.081557  29.289736  835.958407  \n",
       "2    0.820053  0.078190  29.289736  835.958407  \n",
       "3    0.786852  0.090597  29.289736  835.958407  \n",
       "4    0.870102  0.059612  29.289736  835.958407  \n",
       "..        ...       ...        ...         ...  \n",
       "145  0.054109  0.764570  29.289736  835.958407  \n",
       "146  0.088777  0.514734  29.289736  835.958407  \n",
       "147  0.041181  0.784894  29.289736  835.958407  \n",
       "148  0.084530  0.657787  29.289736  835.958407  \n",
       "149  0.091590  0.475866  29.289736  835.958407  \n",
       "\n",
       "[150 rows x 10 columns]"
      ]
     },
     "execution_count": 101,
     "metadata": {},
     "output_type": "execute_result"
    }
   ],
   "source": [
    "df"
   ]
  },
  {
   "cell_type": "code",
   "execution_count": 610,
   "id": "eb2c35cc-a3a7-4f33-b79a-53f77656235a",
   "metadata": {},
   "outputs": [
    {
     "data": {
      "text/html": [
       "<div>\n",
       "<style scoped>\n",
       "    .dataframe tbody tr th:only-of-type {\n",
       "        vertical-align: middle;\n",
       "    }\n",
       "\n",
       "    .dataframe tbody tr th {\n",
       "        vertical-align: top;\n",
       "    }\n",
       "\n",
       "    .dataframe thead th {\n",
       "        text-align: right;\n",
       "    }\n",
       "</style>\n",
       "<table border=\"1\" class=\"dataframe\">\n",
       "  <thead>\n",
       "    <tr style=\"text-align: right;\">\n",
       "      <th></th>\n",
       "      <th>sepal_length</th>\n",
       "      <th>sepal_width</th>\n",
       "      <th>petal_length</th>\n",
       "      <th>petal_width</th>\n",
       "      <th>cluster</th>\n",
       "      <th>u0</th>\n",
       "      <th>u1</th>\n",
       "      <th>u2</th>\n",
       "    </tr>\n",
       "  </thead>\n",
       "  <tbody>\n",
       "    <tr>\n",
       "      <th>0</th>\n",
       "      <td>5.1</td>\n",
       "      <td>3.500000</td>\n",
       "      <td>1.4</td>\n",
       "      <td>0.2</td>\n",
       "      <td>1.0</td>\n",
       "      <td>0.060611</td>\n",
       "      <td>0.885228</td>\n",
       "      <td>0.054161</td>\n",
       "    </tr>\n",
       "    <tr>\n",
       "      <th>1</th>\n",
       "      <td>4.9</td>\n",
       "      <td>3.000000</td>\n",
       "      <td>1.4</td>\n",
       "      <td>0.2</td>\n",
       "      <td>1.0</td>\n",
       "      <td>0.108113</td>\n",
       "      <td>0.810330</td>\n",
       "      <td>0.081557</td>\n",
       "    </tr>\n",
       "    <tr>\n",
       "      <th>2</th>\n",
       "      <td>4.7</td>\n",
       "      <td>3.200000</td>\n",
       "      <td>1.3</td>\n",
       "      <td>0.2</td>\n",
       "      <td>1.0</td>\n",
       "      <td>0.101756</td>\n",
       "      <td>0.820053</td>\n",
       "      <td>0.078190</td>\n",
       "    </tr>\n",
       "    <tr>\n",
       "      <th>3</th>\n",
       "      <td>4.6</td>\n",
       "      <td>3.100000</td>\n",
       "      <td>1.5</td>\n",
       "      <td>0.2</td>\n",
       "      <td>1.0</td>\n",
       "      <td>0.122551</td>\n",
       "      <td>0.786852</td>\n",
       "      <td>0.090597</td>\n",
       "    </tr>\n",
       "    <tr>\n",
       "      <th>4</th>\n",
       "      <td>5.0</td>\n",
       "      <td>3.600000</td>\n",
       "      <td>1.4</td>\n",
       "      <td>0.2</td>\n",
       "      <td>1.0</td>\n",
       "      <td>0.070286</td>\n",
       "      <td>0.870102</td>\n",
       "      <td>0.059612</td>\n",
       "    </tr>\n",
       "    <tr>\n",
       "      <th>...</th>\n",
       "      <td>...</td>\n",
       "      <td>...</td>\n",
       "      <td>...</td>\n",
       "      <td>...</td>\n",
       "      <td>...</td>\n",
       "      <td>...</td>\n",
       "      <td>...</td>\n",
       "      <td>...</td>\n",
       "    </tr>\n",
       "    <tr>\n",
       "      <th>147</th>\n",
       "      <td>6.5</td>\n",
       "      <td>3.000000</td>\n",
       "      <td>5.2</td>\n",
       "      <td>2.0</td>\n",
       "      <td>2.0</td>\n",
       "      <td>0.173925</td>\n",
       "      <td>0.041181</td>\n",
       "      <td>0.784894</td>\n",
       "    </tr>\n",
       "    <tr>\n",
       "      <th>148</th>\n",
       "      <td>6.2</td>\n",
       "      <td>3.400000</td>\n",
       "      <td>5.4</td>\n",
       "      <td>2.3</td>\n",
       "      <td>2.0</td>\n",
       "      <td>0.257683</td>\n",
       "      <td>0.084530</td>\n",
       "      <td>0.657787</td>\n",
       "    </tr>\n",
       "    <tr>\n",
       "      <th>149</th>\n",
       "      <td>5.9</td>\n",
       "      <td>3.000000</td>\n",
       "      <td>5.1</td>\n",
       "      <td>1.8</td>\n",
       "      <td>2.0</td>\n",
       "      <td>0.432544</td>\n",
       "      <td>0.091590</td>\n",
       "      <td>0.475866</td>\n",
       "    </tr>\n",
       "    <tr>\n",
       "      <th>150</th>\n",
       "      <td>J</td>\n",
       "      <td>29.289736</td>\n",
       "      <td>NaN</td>\n",
       "      <td>NaN</td>\n",
       "      <td>NaN</td>\n",
       "      <td>NaN</td>\n",
       "      <td>NaN</td>\n",
       "      <td>NaN</td>\n",
       "    </tr>\n",
       "    <tr>\n",
       "      <th>151</th>\n",
       "      <td>F</td>\n",
       "      <td>835.958407</td>\n",
       "      <td>NaN</td>\n",
       "      <td>NaN</td>\n",
       "      <td>NaN</td>\n",
       "      <td>NaN</td>\n",
       "      <td>NaN</td>\n",
       "      <td>NaN</td>\n",
       "    </tr>\n",
       "  </tbody>\n",
       "</table>\n",
       "<p>152 rows × 8 columns</p>\n",
       "</div>"
      ],
      "text/plain": [
       "    sepal_length  sepal_width  petal_length  petal_width  cluster        u0  \\\n",
       "0            5.1     3.500000           1.4          0.2      1.0  0.060611   \n",
       "1            4.9     3.000000           1.4          0.2      1.0  0.108113   \n",
       "2            4.7     3.200000           1.3          0.2      1.0  0.101756   \n",
       "3            4.6     3.100000           1.5          0.2      1.0  0.122551   \n",
       "4            5.0     3.600000           1.4          0.2      1.0  0.070286   \n",
       "..           ...          ...           ...          ...      ...       ...   \n",
       "147          6.5     3.000000           5.2          2.0      2.0  0.173925   \n",
       "148          6.2     3.400000           5.4          2.3      2.0  0.257683   \n",
       "149          5.9     3.000000           5.1          1.8      2.0  0.432544   \n",
       "150            J    29.289736           NaN          NaN      NaN       NaN   \n",
       "151            F   835.958407           NaN          NaN      NaN       NaN   \n",
       "\n",
       "           u1        u2  \n",
       "0    0.885228  0.054161  \n",
       "1    0.810330  0.081557  \n",
       "2    0.820053  0.078190  \n",
       "3    0.786852  0.090597  \n",
       "4    0.870102  0.059612  \n",
       "..        ...       ...  \n",
       "147  0.041181  0.784894  \n",
       "148  0.084530  0.657787  \n",
       "149  0.091590  0.475866  \n",
       "150       NaN       NaN  \n",
       "151       NaN       NaN  \n",
       "\n",
       "[152 rows x 8 columns]"
      ]
     },
     "execution_count": 610,
     "metadata": {},
     "output_type": "execute_result"
    }
   ],
   "source": [
    "df = pd.read_csv(\"fecbo-E-10-iris.csv\")\n",
    "df"
   ]
  },
  {
   "cell_type": "markdown",
   "id": "575af6ce-3a7f-4c31-83c3-026c4e2472a4",
   "metadata": {},
   "source": [
    "## iris-m3"
   ]
  },
  {
   "cell_type": "code",
   "execution_count": 466,
   "id": "cce7e0a4-fc58-4d77-b461-d53f104f22c2",
   "metadata": {},
   "outputs": [
    {
     "name": "stdout",
     "output_type": "stream",
     "text": [
      "center_distance\n",
      "[[ 0.         10.49720232  2.45073051]\n",
      " [10.49720232  0.         22.12095316]\n",
      " [ 2.45073051 22.12095316  0.        ]]\n",
      "d_{ki}\n",
      "[11.11955116  0.03304539 22.8112015 ]\n",
      "d_{ki}+d_{ii*}\n",
      "[2.16167535e+01 3.30453901e-02 4.49321547e+01]\n",
      "Jの値: 29.289735663504533\n",
      "Fの値: 835.9584066789748\n"
     ]
    }
   ],
   "source": [
    "#_______________入力ファイルやパラメータ指定部分_______________\n",
    "c = 3\n",
    "m = 3\n",
    "np.seterr(divide='ignore', invalid='ignore')\n",
    "#csvファイルの読み込み\n",
    "df = pd.read_csv(\"fecbo-db-m3-iris.csv\")\n",
    "#__________________________________________\n",
    "df = df.iloc[:151]\n",
    "\n",
    "J = df.iloc[-1][1]\n",
    "df = df.iloc[:-1]\n",
    "\n",
    "u_pd = []\n",
    "for i in range(c):\n",
    "    u_pd.append(\"u{}\".format(i))\n",
    "df_u = df.loc[:,u_pd]\n",
    "u = df_u.values\n",
    "\n",
    "df_X = df.loc[:,\"sepal_length\":\"petal_width\"]\n",
    "# df_X = df.loc[:,\"0\":\"1\"]\n",
    "\n",
    "#dfをnumpyで扱えるnp.ndarray変換\n",
    "X = df_X.values\n",
    "X = X.astype('float64')\n",
    "#配列の行数、列数の格納\n",
    "X_size,dimension = X.shape\n",
    "cluster = df[\"cluster\"].values\n",
    "\n",
    "u_m = u**m\n",
    "v = v_calculation(u_m,c,dimension,X)\n",
    "\n",
    "#中心間距離の作成\n",
    "center_distance = np.zeros((c,c))\n",
    "for i in range(c):\n",
    "    for j in range(c):\n",
    "        center_distance[i][j]= np.sum((v[i]-v[j])**2)\n",
    "print(\"center_distance\")\n",
    "print(center_distance)\n",
    "#dにはd11,d12,d13,d14,d21,d22,,,dn1,,dncの順でリスト作る\n",
    "d=[]\n",
    "for i in range(X_size):\n",
    "    for j in range(c):\n",
    "        d.append(np.sum((X[i]-v[j])**2))\n",
    "d = np.array(d)\n",
    "d = d.reshape([X_size,c])\n",
    "print(\"d_{ki}\")\n",
    "print(d[0])\n",
    "for i in range(c):\n",
    "    d[cluster == i] = d[cluster == i]+center_distance[i]\n",
    "print(\"d_{ki}+d_{ii*}\")\n",
    "print(d[0]) \n",
    "\n",
    "#評価関数計算\n",
    "F = 0\n",
    "for i in range(X_size):\n",
    "    for j in range(c):\n",
    "        F += u[i][j] * d[i][j]\n",
    "        \n",
    "        \n",
    "#この初期値のときの結果が優れている場合，bestを更新\n",
    "print(\"Jの値:\",J)\n",
    "print(\"Fの値:\",F)"
   ]
  },
  {
   "cell_type": "code",
   "execution_count": 467,
   "id": "f66adce1-e4c0-4654-ab13-b06791e663e8",
   "metadata": {},
   "outputs": [
    {
     "data": {
      "text/plain": [
       "{'J': 29.289735663504533, 'F': 835.9584066789748}"
      ]
     },
     "execution_count": 467,
     "metadata": {},
     "output_type": "execute_result"
    }
   ],
   "source": [
    "m3 = {}\n",
    "m3[\"J\"] = J\n",
    "m3[\"F\"] = F\n",
    "m3"
   ]
  },
  {
   "cell_type": "code",
   "execution_count": 469,
   "id": "7e819c6b-68e6-43c1-ae50-aa3baeddf262",
   "metadata": {},
   "outputs": [
    {
     "name": "stdout",
     "output_type": "stream",
     "text": [
      "[50. 50. 50.]\n",
      "[1. 1. 1. 1. 1. 1. 1. 1. 1. 1. 1. 1. 1. 1. 1. 1. 1. 1. 1. 1. 1. 1. 1. 1.\n",
      " 1. 1. 1. 1. 1. 1. 1. 1. 1. 1. 1. 1. 1. 1. 1. 1. 1. 1. 1. 1. 1. 1. 1. 1.\n",
      " 1. 1. 1. 1. 1. 1. 1. 1. 1. 1. 1. 1. 1. 1. 1. 1. 1. 1. 1. 1. 1. 1. 1. 1.\n",
      " 1. 1. 1. 1. 1. 1. 1. 1. 1. 1. 1. 1. 1. 1. 1. 1. 1. 1. 1. 1. 1. 1. 1. 1.\n",
      " 1. 1. 1. 1. 1. 1. 1. 1. 1. 1. 1. 1. 1. 1. 1. 1. 1. 1. 1. 1. 1. 1. 1. 1.\n",
      " 1. 1. 1. 1. 1. 1. 1. 1. 1. 1. 1. 1. 1. 1. 1. 1. 1. 1. 1. 1. 1. 1. 1. 1.\n",
      " 1. 1. 1. 1. 1. 1.]\n"
     ]
    }
   ],
   "source": [
    "print(np.sum(u,axis=0))\n",
    "print(np.sum(u,axis=1))"
   ]
  },
  {
   "cell_type": "markdown",
   "id": "48e57982-8f05-4a0c-bb4a-5018b2162123",
   "metadata": {},
   "source": [
    "## iris-m5"
   ]
  },
  {
   "cell_type": "code",
   "execution_count": 470,
   "id": "351e72d0-1d0c-4cea-9a16-e66f1185aef2",
   "metadata": {},
   "outputs": [
    {
     "name": "stdout",
     "output_type": "stream",
     "text": [
      "center_distance\n",
      "[[ 0.         10.89473071  1.79795312]\n",
      " [10.89473071  0.         20.84956998]\n",
      " [ 1.79795312 20.84956998  0.        ]]\n",
      "d_{ki}\n",
      "[11.58065984  0.03437582 21.63188804]\n",
      "d_{ki}+d_{ii*}\n",
      "[2.24753906e+01 3.43758222e-02 4.24814580e+01]\n",
      "Jの値: 4.254850237086912\n",
      "Fの値: 1454.160086057192\n"
     ]
    }
   ],
   "source": [
    "#_______________入力ファイルやパラメータ指定部分_______________\n",
    "c = 3\n",
    "m = 5\n",
    "np.seterr(divide='ignore', invalid='ignore')\n",
    "#csvファイルの読み込み\n",
    "df = pd.read_csv(\"fecbo-db-m5-iris.csv\")\n",
    "#__________________________________________\n",
    "df = df.iloc[:151]\n",
    "\n",
    "J = df.iloc[-1][1]\n",
    "df = df.iloc[:-1]\n",
    "\n",
    "u_pd = []\n",
    "for i in range(c):\n",
    "    u_pd.append(\"u{}\".format(i))\n",
    "df_u = df.loc[:,u_pd]\n",
    "u = df_u.values\n",
    "\n",
    "df_X = df.loc[:,\"sepal_length\":\"petal_width\"]\n",
    "# df_X = df.loc[:,\"0\":\"1\"]\n",
    "\n",
    "#dfをnumpyで扱えるnp.ndarray変換\n",
    "X = df_X.values\n",
    "X = X.astype('float64')\n",
    "#配列の行数、列数の格納\n",
    "X_size,dimension = X.shape\n",
    "cluster = df[\"cluster\"].values\n",
    "\n",
    "u_m = u**m\n",
    "v = v_calculation(u_m,c,dimension,X)\n",
    "\n",
    "#中心間距離の作成\n",
    "center_distance = np.zeros((c,c))\n",
    "for i in range(c):\n",
    "    for j in range(c):\n",
    "        center_distance[i][j]= np.sum((v[i]-v[j])**2)\n",
    "print(\"center_distance\")\n",
    "print(center_distance)\n",
    "#dにはd11,d12,d13,d14,d21,d22,,,dn1,,dncの順でリスト作る\n",
    "d=[]\n",
    "for i in range(X_size):\n",
    "    for j in range(c):\n",
    "        d.append(np.sum((X[i]-v[j])**2))\n",
    "d = np.array(d)\n",
    "d = d.reshape([X_size,c])\n",
    "print(\"d_{ki}\")\n",
    "print(d[0])\n",
    "for i in range(c):\n",
    "    d[cluster == i] = d[cluster == i]+center_distance[i]\n",
    "print(\"d_{ki}+d_{ii*}\")\n",
    "print(d[0])\n",
    "\n",
    "#評価関数計算\n",
    "F = 0\n",
    "for i in range(X_size):\n",
    "    for j in range(c):\n",
    "        F += u[i][j] * d[i][j]\n",
    "        \n",
    "        \n",
    "#この初期値のときの結果が優れている場合，bestを更新\n",
    "print(\"Jの値:\",J)\n",
    "print(\"Fの値:\",F)"
   ]
  },
  {
   "cell_type": "code",
   "execution_count": 471,
   "id": "7cccc2bb-241f-4131-a256-b4ee560f7d09",
   "metadata": {},
   "outputs": [
    {
     "data": {
      "text/plain": [
       "{'J': 4.254850237086912, 'F': 1454.160086057192}"
      ]
     },
     "execution_count": 471,
     "metadata": {},
     "output_type": "execute_result"
    }
   ],
   "source": [
    "m5 = {}\n",
    "m5[\"J\"] = J\n",
    "m5[\"F\"] = F\n",
    "m5"
   ]
  },
  {
   "cell_type": "code",
   "execution_count": 472,
   "id": "b5c79e45-b338-4615-a5ce-e9fe8369e0eb",
   "metadata": {},
   "outputs": [
    {
     "name": "stdout",
     "output_type": "stream",
     "text": [
      "[50. 50. 50.]\n",
      "[1. 1. 1. 1. 1. 1. 1. 1. 1. 1. 1. 1. 1. 1. 1. 1. 1. 1. 1. 1. 1. 1. 1. 1.\n",
      " 1. 1. 1. 1. 1. 1. 1. 1. 1. 1. 1. 1. 1. 1. 1. 1. 1. 1. 1. 1. 1. 1. 1. 1.\n",
      " 1. 1. 1. 1. 1. 1. 1. 1. 1. 1. 1. 1. 1. 1. 1. 1. 1. 1. 1. 1. 1. 1. 1. 1.\n",
      " 1. 1. 1. 1. 1. 1. 1. 1. 1. 1. 1. 1. 1. 1. 1. 1. 1. 1. 1. 1. 1. 1. 1. 1.\n",
      " 1. 1. 1. 1. 1. 1. 1. 1. 1. 1. 1. 1. 1. 1. 1. 1. 1. 1. 1. 1. 1. 1. 1. 1.\n",
      " 1. 1. 1. 1. 1. 1. 1. 1. 1. 1. 1. 1. 1. 1. 1. 1. 1. 1. 1. 1. 1. 1. 1. 1.\n",
      " 1. 1. 1. 1. 1. 1.]\n"
     ]
    }
   ],
   "source": [
    "print(np.sum(u,axis=0))\n",
    "print(np.sum(u,axis=1))"
   ]
  },
  {
   "cell_type": "markdown",
   "id": "2902d4bf-c362-48a7-b202-b329ae584304",
   "metadata": {
    "tags": []
   },
   "source": [
    "## iris-m8"
   ]
  },
  {
   "cell_type": "code",
   "execution_count": 473,
   "id": "28cb6d8b-efdd-4468-8e80-205e7b5328b4",
   "metadata": {},
   "outputs": [
    {
     "name": "stdout",
     "output_type": "stream",
     "text": [
      "center_distance\n",
      "[[ 0.         19.90953107  1.37086191]\n",
      " [19.90953107  0.         11.23420833]\n",
      " [ 1.37086191 11.23420833  0.        ]]\n",
      "d_{ki}\n",
      "[20.71594016  0.03219863 11.93817815]\n",
      "d_{ki}+d_{ii*}\n",
      "[4.06254712e+01 3.21986279e-02 2.31723865e+01]\n",
      "Jの値: 0.18012164024442\n",
      "Fの値: 1785.6306597921155\n"
     ]
    }
   ],
   "source": [
    "#_______________入力ファイルやパラメータ指定部分_______________\n",
    "c = 3\n",
    "m = 8\n",
    "np.seterr(divide='ignore', invalid='ignore')\n",
    "#csvファイルの読み込み\n",
    "df = pd.read_csv(\"fecbo-db-m8-iris.csv\")\n",
    "#__________________________________________\n",
    "df = df.iloc[:151]\n",
    "\n",
    "J = df.iloc[-1][1]\n",
    "df = df.iloc[:-1]\n",
    "\n",
    "u_pd = []\n",
    "for i in range(c):\n",
    "    u_pd.append(\"u{}\".format(i))\n",
    "df_u = df.loc[:,u_pd]\n",
    "u = df_u.values\n",
    "\n",
    "df_X = df.loc[:,\"sepal_length\":\"petal_width\"]\n",
    "# df_X = df.loc[:,\"0\":\"1\"]\n",
    "\n",
    "#dfをnumpyで扱えるnp.ndarray変換\n",
    "X = df_X.values\n",
    "X = X.astype('float64')\n",
    "#配列の行数、列数の格納\n",
    "X_size,dimension = X.shape\n",
    "cluster = df[\"cluster\"].values\n",
    "\n",
    "u_m = u**m\n",
    "v = v_calculation(u_m,c,dimension,X)\n",
    "\n",
    "#中心間距離の作成\n",
    "center_distance = np.zeros((c,c))\n",
    "for i in range(c):\n",
    "    for j in range(c):\n",
    "        center_distance[i][j]= np.sum((v[i]-v[j])**2)\n",
    "print(\"center_distance\")\n",
    "print(center_distance)\n",
    "#dにはd11,d12,d13,d14,d21,d22,,,dn1,,dncの順でリスト作る\n",
    "d=[]\n",
    "for i in range(X_size):\n",
    "    for j in range(c):\n",
    "        d.append(np.sum((X[i]-v[j])**2))\n",
    "d = np.array(d)\n",
    "d = d.reshape([X_size,c])\n",
    "print(\"d_{ki}\")\n",
    "print(d[0])\n",
    "for i in range(c):\n",
    "    d[cluster == i] = d[cluster == i]+center_distance[i]\n",
    "print(\"d_{ki}+d_{ii*}\")\n",
    "print(d[0])\n",
    "\n",
    "#評価関数計算\n",
    "F = 0\n",
    "for i in range(X_size):\n",
    "    for j in range(c):\n",
    "        F += u[i][j] * d[i][j]\n",
    "        \n",
    "        \n",
    "#この初期値のときの結果が優れている場合，bestを更新\n",
    "print(\"Jの値:\",J)\n",
    "print(\"Fの値:\",F)"
   ]
  },
  {
   "cell_type": "code",
   "execution_count": 474,
   "id": "7a4c6006-b0a1-4996-9a3c-1f992c43295c",
   "metadata": {},
   "outputs": [
    {
     "data": {
      "text/plain": [
       "{'J': 0.18012164024442, 'F': 1785.6306597921155}"
      ]
     },
     "execution_count": 474,
     "metadata": {},
     "output_type": "execute_result"
    }
   ],
   "source": [
    "m8 = {}\n",
    "m8[\"J\"] = J\n",
    "m8[\"F\"] = F\n",
    "m8"
   ]
  },
  {
   "cell_type": "code",
   "execution_count": 475,
   "id": "cf084c7e-600e-4db1-8a16-900fd7441a03",
   "metadata": {},
   "outputs": [
    {
     "name": "stdout",
     "output_type": "stream",
     "text": [
      "[50. 50. 50.]\n",
      "[1. 1. 1. 1. 1. 1. 1. 1. 1. 1. 1. 1. 1. 1. 1. 1. 1. 1. 1. 1. 1. 1. 1. 1.\n",
      " 1. 1. 1. 1. 1. 1. 1. 1. 1. 1. 1. 1. 1. 1. 1. 1. 1. 1. 1. 1. 1. 1. 1. 1.\n",
      " 1. 1. 1. 1. 1. 1. 1. 1. 1. 1. 1. 1. 1. 1. 1. 1. 1. 1. 1. 1. 1. 1. 1. 1.\n",
      " 1. 1. 1. 1. 1. 1. 1. 1. 1. 1. 1. 1. 1. 1. 1. 1. 1. 1. 1. 1. 1. 1. 1. 1.\n",
      " 1. 1. 1. 1. 1. 1. 1. 1. 1. 1. 1. 1. 1. 1. 1. 1. 1. 1. 1. 1. 1. 1. 1. 1.\n",
      " 1. 1. 1. 1. 1. 1. 1. 1. 1. 1. 1. 1. 1. 1. 1. 1. 1. 1. 1. 1. 1. 1. 1. 1.\n",
      " 1. 1. 1. 1. 1. 1.]\n"
     ]
    }
   ],
   "source": [
    "print(np.sum(u,axis=0))\n",
    "print(np.sum(u,axis=1))"
   ]
  },
  {
   "cell_type": "markdown",
   "id": "e3e42375-007a-46f5-9819-7ac85ffa8e10",
   "metadata": {},
   "source": [
    "## まとめ"
   ]
  },
  {
   "cell_type": "code",
   "execution_count": 476,
   "id": "e4e0dfb9-be26-49aa-956c-dc16c1219f2b",
   "metadata": {},
   "outputs": [
    {
     "name": "stdout",
     "output_type": "stream",
     "text": [
      "{'J': 29.289735663504533, 'F': 835.9584066789748}\n",
      "{'J': 4.254850237086912, 'F': 1454.160086057192}\n",
      "{'J': 0.18012164024442, 'F': 1785.6306597921155}\n"
     ]
    }
   ],
   "source": [
    "print(m3)\n",
    "print(m5)\n",
    "print(m8)"
   ]
  },
  {
   "cell_type": "code",
   "execution_count": null,
   "id": "6b0eb75a-e330-40b8-95be-58a8381c0656",
   "metadata": {},
   "outputs": [],
   "source": []
  }
 ],
 "metadata": {
  "kernelspec": {
   "display_name": "Python 3 (ipykernel)",
   "language": "python",
   "name": "python3"
  },
  "language_info": {
   "codemirror_mode": {
    "name": "ipython",
    "version": 3
   },
   "file_extension": ".py",
   "mimetype": "text/x-python",
   "name": "python",
   "nbconvert_exporter": "python",
   "pygments_lexer": "ipython3",
   "version": "3.9.16"
  }
 },
 "nbformat": 4,
 "nbformat_minor": 5
}
