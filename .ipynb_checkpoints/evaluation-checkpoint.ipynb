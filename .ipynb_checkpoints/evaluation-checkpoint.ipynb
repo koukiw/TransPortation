{
 "cells": [
  {
   "cell_type": "code",
   "execution_count": 61,
   "id": "aeb0dab2-909a-4bb2-b174-5e9c87dde3c8",
   "metadata": {},
   "outputs": [
    {
     "name": "stdin",
     "output_type": "stream",
     "text": [
      "Once deleted, variables cannot be recovered. Proceed (y/[n])?  y\n"
     ]
    }
   ],
   "source": [
    "%reset"
   ]
  },
  {
   "cell_type": "markdown",
   "id": "ca86c493-3153-4ca3-b4f1-8dace732ac81",
   "metadata": {},
   "source": [
    "各手法ごとに帰属度と目的関数、評価関数の値をcsvに書き出した後、それぞれ一覧で出力しているファイル"
   ]
  },
  {
   "cell_type": "code",
   "execution_count": 8,
   "id": "a9d92fdd-0927-472a-90e7-ac6f9d0da475",
   "metadata": {},
   "outputs": [],
   "source": [
    "import pandas as pd"
   ]
  },
  {
   "cell_type": "code",
   "execution_count": 9,
   "id": "b4bdda25-6774-411e-a155-c003c2ecb271",
   "metadata": {},
   "outputs": [
    {
     "data": {
      "text/plain": [
       "{'J': 29.289735663504533, 'F': 835.9584066789748}"
      ]
     },
     "execution_count": 9,
     "metadata": {},
     "output_type": "execute_result"
    }
   ],
   "source": [
    "m3 = {}\n",
    "m3[\"J\"] = df_m3[\"J\"][0]\n",
    "m3[\"F\"] = df_m3[\"F\"][0]\n",
    "m3"
   ]
  },
  {
   "cell_type": "code",
   "execution_count": 27,
   "id": "5919c027-1d44-41e4-b568-760bfb6faecf",
   "metadata": {},
   "outputs": [
    {
     "data": {
      "text/html": [
       "<div>\n",
       "<style scoped>\n",
       "    .dataframe tbody tr th:only-of-type {\n",
       "        vertical-align: middle;\n",
       "    }\n",
       "\n",
       "    .dataframe tbody tr th {\n",
       "        vertical-align: top;\n",
       "    }\n",
       "\n",
       "    .dataframe thead th {\n",
       "        text-align: right;\n",
       "    }\n",
       "</style>\n",
       "<table border=\"1\" class=\"dataframe\">\n",
       "  <thead>\n",
       "    <tr style=\"text-align: right;\">\n",
       "      <th></th>\n",
       "      <th>u1</th>\n",
       "      <th>u2</th>\n",
       "      <th>u3</th>\n",
       "    </tr>\n",
       "  </thead>\n",
       "  <tbody>\n",
       "    <tr>\n",
       "      <th>0</th>\n",
       "      <td>0.060611</td>\n",
       "      <td>0.885228</td>\n",
       "      <td>0.054161</td>\n",
       "    </tr>\n",
       "    <tr>\n",
       "      <th>1</th>\n",
       "      <td>0.108113</td>\n",
       "      <td>0.810330</td>\n",
       "      <td>0.081557</td>\n",
       "    </tr>\n",
       "    <tr>\n",
       "      <th>2</th>\n",
       "      <td>0.101756</td>\n",
       "      <td>0.820053</td>\n",
       "      <td>0.078190</td>\n",
       "    </tr>\n",
       "    <tr>\n",
       "      <th>3</th>\n",
       "      <td>0.122551</td>\n",
       "      <td>0.786852</td>\n",
       "      <td>0.090597</td>\n",
       "    </tr>\n",
       "    <tr>\n",
       "      <th>4</th>\n",
       "      <td>0.070286</td>\n",
       "      <td>0.870102</td>\n",
       "      <td>0.059612</td>\n",
       "    </tr>\n",
       "    <tr>\n",
       "      <th>...</th>\n",
       "      <td>...</td>\n",
       "      <td>...</td>\n",
       "      <td>...</td>\n",
       "    </tr>\n",
       "    <tr>\n",
       "      <th>145</th>\n",
       "      <td>0.181321</td>\n",
       "      <td>0.054109</td>\n",
       "      <td>0.764570</td>\n",
       "    </tr>\n",
       "    <tr>\n",
       "      <th>146</th>\n",
       "      <td>0.396489</td>\n",
       "      <td>0.088777</td>\n",
       "      <td>0.514734</td>\n",
       "    </tr>\n",
       "    <tr>\n",
       "      <th>147</th>\n",
       "      <td>0.173925</td>\n",
       "      <td>0.041181</td>\n",
       "      <td>0.784894</td>\n",
       "    </tr>\n",
       "    <tr>\n",
       "      <th>148</th>\n",
       "      <td>0.257683</td>\n",
       "      <td>0.084530</td>\n",
       "      <td>0.657787</td>\n",
       "    </tr>\n",
       "    <tr>\n",
       "      <th>149</th>\n",
       "      <td>0.432544</td>\n",
       "      <td>0.091590</td>\n",
       "      <td>0.475866</td>\n",
       "    </tr>\n",
       "  </tbody>\n",
       "</table>\n",
       "<p>150 rows × 3 columns</p>\n",
       "</div>"
      ],
      "text/plain": [
       "           u1        u2        u3\n",
       "0    0.060611  0.885228  0.054161\n",
       "1    0.108113  0.810330  0.081557\n",
       "2    0.101756  0.820053  0.078190\n",
       "3    0.122551  0.786852  0.090597\n",
       "4    0.070286  0.870102  0.059612\n",
       "..        ...       ...       ...\n",
       "145  0.181321  0.054109  0.764570\n",
       "146  0.396489  0.088777  0.514734\n",
       "147  0.173925  0.041181  0.784894\n",
       "148  0.257683  0.084530  0.657787\n",
       "149  0.432544  0.091590  0.475866\n",
       "\n",
       "[150 rows x 3 columns]"
      ]
     },
     "execution_count": 27,
     "metadata": {},
     "output_type": "execute_result"
    }
   ],
   "source": [
    "df_m3 = pd.read_csv(\"./iris_classification/iris_csvFile/Iris-m3.csv\")\n",
    "df_u = df_m3.loc[:,\"u0\":\"u2\"]\n",
    "df_u = df_u.rename(columns={'u0':'u1','u1':'u2','u2':'u3'})\n",
    "df_u"
   ]
  },
  {
   "cell_type": "code",
   "execution_count": 39,
   "id": "d838a55f-60c7-4f07-bca9-cc367988cfca",
   "metadata": {},
   "outputs": [
    {
     "data": {
      "text/html": [
       "<div>\n",
       "<style scoped>\n",
       "    .dataframe tbody tr th:only-of-type {\n",
       "        vertical-align: middle;\n",
       "    }\n",
       "\n",
       "    .dataframe tbody tr th {\n",
       "        vertical-align: top;\n",
       "    }\n",
       "\n",
       "    .dataframe thead th {\n",
       "        text-align: right;\n",
       "    }\n",
       "</style>\n",
       "<table border=\"1\" class=\"dataframe\">\n",
       "  <thead>\n",
       "    <tr style=\"text-align: right;\">\n",
       "      <th></th>\n",
       "      <th>u1</th>\n",
       "      <th>u2</th>\n",
       "      <th>u3</th>\n",
       "    </tr>\n",
       "  </thead>\n",
       "  <tbody>\n",
       "    <tr>\n",
       "      <th>0</th>\n",
       "      <td>0.060611</td>\n",
       "      <td>0.885228</td>\n",
       "      <td>0.054161</td>\n",
       "    </tr>\n",
       "  </tbody>\n",
       "</table>\n",
       "</div>"
      ],
      "text/plain": [
       "         u1        u2        u3\n",
       "0  0.060611  0.885228  0.054161"
      ]
     },
     "execution_count": 39,
     "metadata": {},
     "output_type": "execute_result"
    }
   ],
   "source": [
    "df_u.iloc[[0]]"
   ]
  },
  {
   "cell_type": "code",
   "execution_count": 21,
   "id": "26e05e08-b7f9-4435-af1b-961d7063e1bc",
   "metadata": {},
   "outputs": [
    {
     "data": {
      "text/html": [
       "<div>\n",
       "<style scoped>\n",
       "    .dataframe tbody tr th:only-of-type {\n",
       "        vertical-align: middle;\n",
       "    }\n",
       "\n",
       "    .dataframe tbody tr th {\n",
       "        vertical-align: top;\n",
       "    }\n",
       "\n",
       "    .dataframe thead th {\n",
       "        text-align: right;\n",
       "    }\n",
       "</style>\n",
       "<table border=\"1\" class=\"dataframe\">\n",
       "  <thead>\n",
       "    <tr style=\"text-align: right;\">\n",
       "      <th></th>\n",
       "      <th>u1</th>\n",
       "      <th>u2</th>\n",
       "      <th>u3</th>\n",
       "    </tr>\n",
       "  </thead>\n",
       "  <tbody>\n",
       "    <tr>\n",
       "      <th>0</th>\n",
       "      <td>0.157119</td>\n",
       "      <td>0.694499</td>\n",
       "      <td>0.148381</td>\n",
       "    </tr>\n",
       "    <tr>\n",
       "      <th>1</th>\n",
       "      <td>0.209519</td>\n",
       "      <td>0.605768</td>\n",
       "      <td>0.184713</td>\n",
       "    </tr>\n",
       "    <tr>\n",
       "      <th>2</th>\n",
       "      <td>0.206081</td>\n",
       "      <td>0.611111</td>\n",
       "      <td>0.182808</td>\n",
       "    </tr>\n",
       "    <tr>\n",
       "      <th>3</th>\n",
       "      <td>0.221548</td>\n",
       "      <td>0.584508</td>\n",
       "      <td>0.193945</td>\n",
       "    </tr>\n",
       "    <tr>\n",
       "      <th>4</th>\n",
       "      <td>0.173359</td>\n",
       "      <td>0.667385</td>\n",
       "      <td>0.159256</td>\n",
       "    </tr>\n",
       "    <tr>\n",
       "      <th>...</th>\n",
       "      <td>...</td>\n",
       "      <td>...</td>\n",
       "      <td>...</td>\n",
       "    </tr>\n",
       "    <tr>\n",
       "      <th>145</th>\n",
       "      <td>0.280184</td>\n",
       "      <td>0.159885</td>\n",
       "      <td>0.559931</td>\n",
       "    </tr>\n",
       "    <tr>\n",
       "      <th>146</th>\n",
       "      <td>0.375219</td>\n",
       "      <td>0.178483</td>\n",
       "      <td>0.446298</td>\n",
       "    </tr>\n",
       "    <tr>\n",
       "      <th>147</th>\n",
       "      <td>0.240008</td>\n",
       "      <td>0.129790</td>\n",
       "      <td>0.630202</td>\n",
       "    </tr>\n",
       "    <tr>\n",
       "      <th>148</th>\n",
       "      <td>0.316128</td>\n",
       "      <td>0.182531</td>\n",
       "      <td>0.501342</td>\n",
       "    </tr>\n",
       "    <tr>\n",
       "      <th>149</th>\n",
       "      <td>0.391847</td>\n",
       "      <td>0.180248</td>\n",
       "      <td>0.427904</td>\n",
       "    </tr>\n",
       "  </tbody>\n",
       "</table>\n",
       "<p>150 rows × 3 columns</p>\n",
       "</div>"
      ],
      "text/plain": [
       "           u1        u2        u3\n",
       "0    0.157119  0.694499  0.148381\n",
       "1    0.209519  0.605768  0.184713\n",
       "2    0.206081  0.611111  0.182808\n",
       "3    0.221548  0.584508  0.193945\n",
       "4    0.173359  0.667385  0.159256\n",
       "..        ...       ...       ...\n",
       "145  0.280184  0.159885  0.559931\n",
       "146  0.375219  0.178483  0.446298\n",
       "147  0.240008  0.129790  0.630202\n",
       "148  0.316128  0.182531  0.501342\n",
       "149  0.391847  0.180248  0.427904\n",
       "\n",
       "[150 rows x 3 columns]"
      ]
     },
     "execution_count": 21,
     "metadata": {},
     "output_type": "execute_result"
    }
   ],
   "source": [
    "df_m5 = pd.read_csv(\"./iris_classification/iris_csvFile/Iris-m5.csv\")\n",
    "df_u = df_m5.loc[:,\"u0\":\"u2\"]\n",
    "df_u = df_u.rename(columns={'u0':'u1','u1':'u2','u2':'u3'})\n",
    "df_u"
   ]
  },
  {
   "cell_type": "code",
   "execution_count": 22,
   "id": "2aeb3afd-ce7c-4150-b31a-28f89092f03a",
   "metadata": {},
   "outputs": [
    {
     "data": {
      "text/html": [
       "<div>\n",
       "<style scoped>\n",
       "    .dataframe tbody tr th:only-of-type {\n",
       "        vertical-align: middle;\n",
       "    }\n",
       "\n",
       "    .dataframe tbody tr th {\n",
       "        vertical-align: top;\n",
       "    }\n",
       "\n",
       "    .dataframe thead th {\n",
       "        text-align: right;\n",
       "    }\n",
       "</style>\n",
       "<table border=\"1\" class=\"dataframe\">\n",
       "  <thead>\n",
       "    <tr style=\"text-align: right;\">\n",
       "      <th></th>\n",
       "      <th>u1</th>\n",
       "      <th>u2</th>\n",
       "      <th>u3</th>\n",
       "    </tr>\n",
       "  </thead>\n",
       "  <tbody>\n",
       "    <tr>\n",
       "      <th>0</th>\n",
       "      <td>0.219156</td>\n",
       "      <td>0.554037</td>\n",
       "      <td>0.226808</td>\n",
       "    </tr>\n",
       "    <tr>\n",
       "      <th>1</th>\n",
       "      <td>0.246973</td>\n",
       "      <td>0.489700</td>\n",
       "      <td>0.263327</td>\n",
       "    </tr>\n",
       "    <tr>\n",
       "      <th>2</th>\n",
       "      <td>0.246139</td>\n",
       "      <td>0.492158</td>\n",
       "      <td>0.261703</td>\n",
       "    </tr>\n",
       "    <tr>\n",
       "      <th>3</th>\n",
       "      <td>0.253093</td>\n",
       "      <td>0.476265</td>\n",
       "      <td>0.270642</td>\n",
       "    </tr>\n",
       "    <tr>\n",
       "      <th>4</th>\n",
       "      <td>0.228459</td>\n",
       "      <td>0.532209</td>\n",
       "      <td>0.239331</td>\n",
       "    </tr>\n",
       "    <tr>\n",
       "      <th>...</th>\n",
       "      <td>...</td>\n",
       "      <td>...</td>\n",
       "      <td>...</td>\n",
       "    </tr>\n",
       "    <tr>\n",
       "      <th>145</th>\n",
       "      <td>0.454356</td>\n",
       "      <td>0.230701</td>\n",
       "      <td>0.314944</td>\n",
       "    </tr>\n",
       "    <tr>\n",
       "      <th>146</th>\n",
       "      <td>0.404182</td>\n",
       "      <td>0.236896</td>\n",
       "      <td>0.358923</td>\n",
       "    </tr>\n",
       "    <tr>\n",
       "      <th>147</th>\n",
       "      <td>0.531060</td>\n",
       "      <td>0.202124</td>\n",
       "      <td>0.266816</td>\n",
       "    </tr>\n",
       "    <tr>\n",
       "      <th>148</th>\n",
       "      <td>0.425264</td>\n",
       "      <td>0.243249</td>\n",
       "      <td>0.331487</td>\n",
       "    </tr>\n",
       "    <tr>\n",
       "      <th>149</th>\n",
       "      <td>0.394303</td>\n",
       "      <td>0.237964</td>\n",
       "      <td>0.367733</td>\n",
       "    </tr>\n",
       "  </tbody>\n",
       "</table>\n",
       "<p>150 rows × 3 columns</p>\n",
       "</div>"
      ],
      "text/plain": [
       "           u1        u2        u3\n",
       "0    0.219156  0.554037  0.226808\n",
       "1    0.246973  0.489700  0.263327\n",
       "2    0.246139  0.492158  0.261703\n",
       "3    0.253093  0.476265  0.270642\n",
       "4    0.228459  0.532209  0.239331\n",
       "..        ...       ...       ...\n",
       "145  0.454356  0.230701  0.314944\n",
       "146  0.404182  0.236896  0.358923\n",
       "147  0.531060  0.202124  0.266816\n",
       "148  0.425264  0.243249  0.331487\n",
       "149  0.394303  0.237964  0.367733\n",
       "\n",
       "[150 rows x 3 columns]"
      ]
     },
     "execution_count": 22,
     "metadata": {},
     "output_type": "execute_result"
    }
   ],
   "source": [
    "df_m8 = pd.read_csv(\"./iris_classification/iris_csvFile/Iris-m8.csv\")\n",
    "df_u = df_m8.loc[:,\"u0\":\"u2\"]\n",
    "df_u = df_u.rename(columns={'u0':'u1','u1':'u2','u2':'u3'})\n",
    "df_u"
   ]
  },
  {
   "cell_type": "code",
   "execution_count": 23,
   "id": "fc762d02-41ac-4d0f-914d-89a0e2b9f451",
   "metadata": {},
   "outputs": [
    {
     "data": {
      "text/html": [
       "<div>\n",
       "<style scoped>\n",
       "    .dataframe tbody tr th:only-of-type {\n",
       "        vertical-align: middle;\n",
       "    }\n",
       "\n",
       "    .dataframe tbody tr th {\n",
       "        vertical-align: top;\n",
       "    }\n",
       "\n",
       "    .dataframe thead th {\n",
       "        text-align: right;\n",
       "    }\n",
       "</style>\n",
       "<table border=\"1\" class=\"dataframe\">\n",
       "  <thead>\n",
       "    <tr style=\"text-align: right;\">\n",
       "      <th></th>\n",
       "      <th>u1</th>\n",
       "      <th>u2</th>\n",
       "      <th>u3</th>\n",
       "    </tr>\n",
       "  </thead>\n",
       "  <tbody>\n",
       "    <tr>\n",
       "      <th>0</th>\n",
       "      <td>0.915676</td>\n",
       "      <td>0.034733</td>\n",
       "      <td>0.049591</td>\n",
       "    </tr>\n",
       "    <tr>\n",
       "      <th>1</th>\n",
       "      <td>0.827251</td>\n",
       "      <td>0.070570</td>\n",
       "      <td>0.102178</td>\n",
       "    </tr>\n",
       "    <tr>\n",
       "      <th>2</th>\n",
       "      <td>0.835861</td>\n",
       "      <td>0.067695</td>\n",
       "      <td>0.096444</td>\n",
       "    </tr>\n",
       "    <tr>\n",
       "      <th>3</th>\n",
       "      <td>0.801531</td>\n",
       "      <td>0.081068</td>\n",
       "      <td>0.117401</td>\n",
       "    </tr>\n",
       "    <tr>\n",
       "      <th>4</th>\n",
       "      <td>0.894932</td>\n",
       "      <td>0.043400</td>\n",
       "      <td>0.061669</td>\n",
       "    </tr>\n",
       "    <tr>\n",
       "      <th>...</th>\n",
       "      <td>...</td>\n",
       "      <td>...</td>\n",
       "      <td>...</td>\n",
       "    </tr>\n",
       "    <tr>\n",
       "      <th>145</th>\n",
       "      <td>0.069029</td>\n",
       "      <td>0.715875</td>\n",
       "      <td>0.215096</td>\n",
       "    </tr>\n",
       "    <tr>\n",
       "      <th>146</th>\n",
       "      <td>0.097676</td>\n",
       "      <td>0.466216</td>\n",
       "      <td>0.436108</td>\n",
       "    </tr>\n",
       "    <tr>\n",
       "      <th>147</th>\n",
       "      <td>0.064641</td>\n",
       "      <td>0.698666</td>\n",
       "      <td>0.236693</td>\n",
       "    </tr>\n",
       "    <tr>\n",
       "      <th>148</th>\n",
       "      <td>0.093683</td>\n",
       "      <td>0.624896</td>\n",
       "      <td>0.281420</td>\n",
       "    </tr>\n",
       "    <tr>\n",
       "      <th>149</th>\n",
       "      <td>0.099770</td>\n",
       "      <td>0.427048</td>\n",
       "      <td>0.473182</td>\n",
       "    </tr>\n",
       "  </tbody>\n",
       "</table>\n",
       "<p>150 rows × 3 columns</p>\n",
       "</div>"
      ],
      "text/plain": [
       "           u1        u2        u3\n",
       "0    0.915676  0.034733  0.049591\n",
       "1    0.827251  0.070570  0.102178\n",
       "2    0.835861  0.067695  0.096444\n",
       "3    0.801531  0.081068  0.117401\n",
       "4    0.894932  0.043400  0.061669\n",
       "..        ...       ...       ...\n",
       "145  0.069029  0.715875  0.215096\n",
       "146  0.097676  0.466216  0.436108\n",
       "147  0.064641  0.698666  0.236693\n",
       "148  0.093683  0.624896  0.281420\n",
       "149  0.099770  0.427048  0.473182\n",
       "\n",
       "[150 rows x 3 columns]"
      ]
     },
     "execution_count": 23,
     "metadata": {},
     "output_type": "execute_result"
    }
   ],
   "source": [
    "df = pd.read_csv(\"./iris_classification/iris_csvFile/Iris-fcm.csv\")\n",
    "df_u = df.loc[:,\"u1\":\"u3\"]\n",
    "df_u"
   ]
  },
  {
   "cell_type": "code",
   "execution_count": null,
   "id": "86cb31bd-e4e3-49fd-8cb8-c4c04a5fce62",
   "metadata": {},
   "outputs": [],
   "source": []
  },
  {
   "cell_type": "code",
   "execution_count": null,
   "id": "80ba4827-0ec1-4d20-80a8-5ec2d1fbeddd",
   "metadata": {},
   "outputs": [],
   "source": []
  },
  {
   "cell_type": "code",
   "execution_count": null,
   "id": "49bbcfcd-4597-4d51-8046-de74904a3628",
   "metadata": {},
   "outputs": [],
   "source": []
  },
  {
   "cell_type": "code",
   "execution_count": null,
   "id": "cb66b43f-1368-49f6-a72f-c6a54936d15b",
   "metadata": {},
   "outputs": [],
   "source": []
  },
  {
   "cell_type": "code",
   "execution_count": null,
   "id": "2d7f84c8-2d7a-4d83-8fec-1266f99394f4",
   "metadata": {},
   "outputs": [],
   "source": []
  },
  {
   "cell_type": "code",
   "execution_count": null,
   "id": "5dfd4c56-b252-4297-a477-6d220ca7ea51",
   "metadata": {},
   "outputs": [],
   "source": []
  },
  {
   "cell_type": "code",
   "execution_count": 76,
   "id": "d787dc2f-bbd1-4124-94f1-c8a2469d5bdc",
   "metadata": {
    "tags": []
   },
   "outputs": [],
   "source": [
    "df_m3 = pd.read_csv(\"./iris_classification/iris_csvFile/Iris-m3.csv\")\n",
    "df_u = df_m3.loc[:,\"u0\":\"u2\"]\n",
    "u = df_u.values\n",
    "np_cluster = df_m3.loc[:,\"cluster\"].values\n",
    "X =df_m3.loc[:,\"sepal_length\":\"petal_width\"].values\n",
    "J = df_m3[\"J\"][0]"
   ]
  },
  {
   "cell_type": "code",
   "execution_count": 77,
   "id": "585f1cfb-cff6-4e14-963c-5923144500bb",
   "metadata": {},
   "outputs": [],
   "source": [
    "def calc_F(c,cluster,X,v,m,u):\n",
    "    #中心間距離の作成\n",
    "    center_distance = np.zeros((c,c))\n",
    "    for i in range(c):\n",
    "        center_distance[i]= np.sum((v[i]-v)**2,axis=1)\n",
    "    print(\"center_distance\")\n",
    "    print(center_distance)\n",
    "    #dにはd11,d12,d13,d14,d21,d22,,,dn1,,dncの順でリスト作る\n",
    "    d = np.zeros((X_size,c))\n",
    "    for i in range(X_size):\n",
    "        d[i] = np.sum((X[i]-v)**2,axis=1)\n",
    "    # print(\"d_{ki}\")\n",
    "    # print(d[0])\n",
    "\n",
    "    new_d = np.zeros((X_size,c))\n",
    "    #ここが怪しい\n",
    "    for i in range(c):\n",
    "        new_d[cluster == i] = d[cluster == i]+center_distance[i]\n",
    "    # print(\"new_d{ki} = d_{ki}+d_{ii*}\")\n",
    "    # print(new_d[0])\n",
    "\n",
    "    #評価関数計算(ついでにJも再計算してあってるか確認)\n",
    "    F = 0\n",
    "    kakunin_J = 0\n",
    "    u_m = u**m\n",
    "    for i in range(X_size):\n",
    "        F += np.sum(u[i] * new_d[i])\n",
    "        kakunin_J += np.sum(u_m[i] * d[i])\n",
    "\n",
    "\n",
    "    #この初期値のときの結果が優れている場合，bestを更新\n",
    "    print(\"Jの値:\",J)\n",
    "    print(\"Jの値を再計算:\",kakunin_J)\n",
    "    print(\"Fの値:\",F)\n",
    "    return F"
   ]
  },
  {
   "cell_type": "code",
   "execution_count": 78,
   "id": "ab4993a7-2ef8-4461-8384-e3b8ece44d24",
   "metadata": {},
   "outputs": [],
   "source": [
    "#クラスタ中心計算部分関数作成\n",
    "def v_calculation(u_m,c,dimension,X):\n",
    "    #分母計算(クラスタサイズになるはず)\n",
    "    v_denominator = np.sum(u_m,axis=0)\n",
    "    \n",
    "    #分子計算\n",
    "    v_numerator = np.zeros((c,dimension))\n",
    "    for j in range(c):\n",
    "        for i in range(X_size):\n",
    "            v_numerator[j]+= u_m[i][j]*X[i]\n",
    "   \n",
    "    v = np.zeros((c,dimension ))\n",
    "    for i in range(c):\n",
    "        v[i] = v_numerator[i]/v_denominator[i]\n",
    "    return v"
   ]
  },
  {
   "cell_type": "code",
   "execution_count": 79,
   "id": "663f1341-0e6b-468a-ad09-ebf868672f24",
   "metadata": {},
   "outputs": [],
   "source": [
    "m=3\n",
    "c=3\n",
    "X_size,dimension = X.shape\n",
    "u_m = u**m\n",
    "v = v_calculation(u_m,c,dimension,X)"
   ]
  },
  {
   "cell_type": "code",
   "execution_count": 80,
   "id": "26cf28f0-48b8-4da9-9e6b-bb507e669769",
   "metadata": {},
   "outputs": [
    {
     "data": {
      "text/plain": [
       "array([[5.8798245 , 2.7805334 , 4.33476775, 1.37513018],\n",
       "       [4.99946148, 3.39023264, 1.49106561, 0.25094682],\n",
       "       [6.65877695, 3.0271593 , 5.50532537, 2.01772969]])"
      ]
     },
     "execution_count": 80,
     "metadata": {},
     "output_type": "execute_result"
    }
   ],
   "source": [
    "v"
   ]
  },
  {
   "cell_type": "code",
   "execution_count": 81,
   "id": "d37b6cc1-c859-401c-813c-5cf5d4cd0457",
   "metadata": {},
   "outputs": [
    {
     "name": "stdout",
     "output_type": "stream",
     "text": [
      "center_distance\n",
      "[[ 0.         10.49720232  2.45073051]\n",
      " [10.49720232  0.         22.12095316]\n",
      " [ 2.45073051 22.12095316  0.        ]]\n",
      "Jの値: 29.289735663504533\n",
      "Jの値を再計算: 29.289735663503222\n",
      "Fの値: 835.9584066789752\n"
     ]
    },
    {
     "data": {
      "text/plain": [
       "835.9584066789752"
      ]
     },
     "execution_count": 81,
     "metadata": {},
     "output_type": "execute_result"
    }
   ],
   "source": [
    "calc_F(c,np_cluster,X,v,m,u)"
   ]
  },
  {
   "cell_type": "code",
   "execution_count": null,
   "id": "12c160b5-cb38-4d27-bcd7-e3ac4cc75097",
   "metadata": {},
   "outputs": [],
   "source": []
  },
  {
   "cell_type": "code",
   "execution_count": null,
   "id": "6111fd1f-d37c-4c4c-8c39-f958c07f34d8",
   "metadata": {},
   "outputs": [],
   "source": []
  },
  {
   "cell_type": "code",
   "execution_count": null,
   "id": "e2bf7aea-1e88-4283-9e1c-682d075b8868",
   "metadata": {},
   "outputs": [],
   "source": []
  },
  {
   "cell_type": "code",
   "execution_count": null,
   "id": "b4f0f8b3-0f32-477d-9e25-fe7a3651ab17",
   "metadata": {},
   "outputs": [],
   "source": []
  },
  {
   "cell_type": "code",
   "execution_count": 65,
   "id": "b0063953-a801-4ede-91d0-ff045b3ab3ad",
   "metadata": {},
   "outputs": [
    {
     "data": {
      "text/plain": [
       "{'J': 4.254850237086912, 'F': 1454.160086057192}"
      ]
     },
     "execution_count": 65,
     "metadata": {},
     "output_type": "execute_result"
    }
   ],
   "source": [
    "df_m5 = pd.read_csv(\"fecbo-db-m5-iris.csv\")\n",
    "m5 = {}\n",
    "m5[\"J\"] = df_m5.loc[150][\"sepal_width\"]\n",
    "m5[\"F\"] = df_m5.loc[151][\"sepal_width\"]\n",
    "m5"
   ]
  },
  {
   "cell_type": "code",
   "execution_count": 66,
   "id": "312be144-d1c9-4d25-8e88-29895a79e616",
   "metadata": {},
   "outputs": [
    {
     "data": {
      "text/plain": [
       "{'J': 0.18012164024442, 'F': 1785.6306597921157}"
      ]
     },
     "execution_count": 66,
     "metadata": {},
     "output_type": "execute_result"
    }
   ],
   "source": [
    "df_m8 = pd.read_csv(\"fecbo-db-m8-iris.csv\")\n",
    "m8 = {}\n",
    "m8[\"J\"] = df_m8.loc[150][\"sepal_width\"]\n",
    "m8[\"F\"] = df_m8.loc[151][\"sepal_width\"]\n",
    "m8"
   ]
  },
  {
   "cell_type": "code",
   "execution_count": 67,
   "id": "2343af2e-b17e-4c44-8f1b-4d02821c648a",
   "metadata": {},
   "outputs": [
    {
     "data": {
      "text/plain": [
       "{'J': 0.5603847272533886, 'F': 32.667265517970215}"
      ]
     },
     "execution_count": 67,
     "metadata": {},
     "output_type": "execute_result"
    }
   ],
   "source": [
    "df_m3_rand = pd.read_csv(\"fecbo-db-m3-rand.csv\")\n",
    "rand_m3 = {}\n",
    "rand_m3[\"J\"] = df_m3_rand.loc[100][\"1\"]\n",
    "rand_m3[\"F\"] = df_m3_rand.loc[101][\"1\"]\n",
    "rand_m3 "
   ]
  },
  {
   "cell_type": "code",
   "execution_count": 68,
   "id": "50a59c95-7ffa-48ca-8211-b901c800177a",
   "metadata": {},
   "outputs": [
    {
     "data": {
      "text/plain": [
       "{'J': 0.0254977934291202, 'F': 32.205874979319205}"
      ]
     },
     "execution_count": 68,
     "metadata": {},
     "output_type": "execute_result"
    }
   ],
   "source": [
    "df_m5_rand = pd.read_csv(\"fecbo-db-m5-rand.csv\")\n",
    "rand_m5 = {}\n",
    "rand_m5[\"J\"] = df_m5_rand.loc[100][\"1\"]\n",
    "rand_m5[\"F\"] = df_m5_rand.loc[101][\"1\"]\n",
    "rand_m5 "
   ]
  },
  {
   "cell_type": "code",
   "execution_count": null,
   "id": "b5f7abc6-3f24-4b88-bd6c-fc0458b0f4e6",
   "metadata": {},
   "outputs": [],
   "source": []
  },
  {
   "cell_type": "code",
   "execution_count": null,
   "id": "a08b8812-c62b-467c-8a0a-80ba965ceb44",
   "metadata": {},
   "outputs": [],
   "source": []
  },
  {
   "cell_type": "code",
   "execution_count": null,
   "id": "b27643ce-8270-4356-943d-9687befb3022",
   "metadata": {},
   "outputs": [],
   "source": []
  },
  {
   "cell_type": "code",
   "execution_count": 25,
   "id": "0614bce7-4834-4af0-97ab-24ecc5478f4f",
   "metadata": {},
   "outputs": [
    {
     "data": {
      "text/html": [
       "<div>\n",
       "<style scoped>\n",
       "    .dataframe tbody tr th:only-of-type {\n",
       "        vertical-align: middle;\n",
       "    }\n",
       "\n",
       "    .dataframe tbody tr th {\n",
       "        vertical-align: top;\n",
       "    }\n",
       "\n",
       "    .dataframe thead th {\n",
       "        text-align: right;\n",
       "    }\n",
       "</style>\n",
       "<table border=\"1\" class=\"dataframe\">\n",
       "  <thead>\n",
       "    <tr style=\"text-align: right;\">\n",
       "      <th></th>\n",
       "      <th>sepal_length</th>\n",
       "      <th>sepal_width</th>\n",
       "      <th>petal_length</th>\n",
       "      <th>petal_width</th>\n",
       "      <th>cluster</th>\n",
       "      <th>u0</th>\n",
       "      <th>u1</th>\n",
       "      <th>u2</th>\n",
       "    </tr>\n",
       "  </thead>\n",
       "  <tbody>\n",
       "    <tr>\n",
       "      <th>0</th>\n",
       "      <td>5.1</td>\n",
       "      <td>3.500000</td>\n",
       "      <td>1.4</td>\n",
       "      <td>0.2</td>\n",
       "      <td>0.0</td>\n",
       "      <td>1.000000e+00</td>\n",
       "      <td>-3.091345e-10</td>\n",
       "      <td>-2.384222e-10</td>\n",
       "    </tr>\n",
       "    <tr>\n",
       "      <th>1</th>\n",
       "      <td>4.9</td>\n",
       "      <td>3.000000</td>\n",
       "      <td>1.4</td>\n",
       "      <td>0.2</td>\n",
       "      <td>0.0</td>\n",
       "      <td>1.000000e+00</td>\n",
       "      <td>-3.071439e-10</td>\n",
       "      <td>-2.246454e-10</td>\n",
       "    </tr>\n",
       "    <tr>\n",
       "      <th>2</th>\n",
       "      <td>4.7</td>\n",
       "      <td>3.200000</td>\n",
       "      <td>1.3</td>\n",
       "      <td>0.2</td>\n",
       "      <td>0.0</td>\n",
       "      <td>1.000000e+00</td>\n",
       "      <td>-2.954367e-10</td>\n",
       "      <td>-2.626342e-10</td>\n",
       "    </tr>\n",
       "    <tr>\n",
       "      <th>3</th>\n",
       "      <td>4.6</td>\n",
       "      <td>3.100000</td>\n",
       "      <td>1.5</td>\n",
       "      <td>0.2</td>\n",
       "      <td>0.0</td>\n",
       "      <td>1.000000e+00</td>\n",
       "      <td>-3.052415e-10</td>\n",
       "      <td>-2.272333e-10</td>\n",
       "    </tr>\n",
       "    <tr>\n",
       "      <th>4</th>\n",
       "      <td>5.0</td>\n",
       "      <td>3.600000</td>\n",
       "      <td>1.4</td>\n",
       "      <td>0.2</td>\n",
       "      <td>0.0</td>\n",
       "      <td>1.000000e+00</td>\n",
       "      <td>-3.065066e-10</td>\n",
       "      <td>-2.484038e-10</td>\n",
       "    </tr>\n",
       "    <tr>\n",
       "      <th>...</th>\n",
       "      <td>...</td>\n",
       "      <td>...</td>\n",
       "      <td>...</td>\n",
       "      <td>...</td>\n",
       "      <td>...</td>\n",
       "      <td>...</td>\n",
       "      <td>...</td>\n",
       "      <td>...</td>\n",
       "    </tr>\n",
       "    <tr>\n",
       "      <th>147</th>\n",
       "      <td>6.5</td>\n",
       "      <td>3.000000</td>\n",
       "      <td>5.2</td>\n",
       "      <td>2.0</td>\n",
       "      <td>1.0</td>\n",
       "      <td>-3.594523e-10</td>\n",
       "      <td>1.000000e+00</td>\n",
       "      <td>1.185552e-08</td>\n",
       "    </tr>\n",
       "    <tr>\n",
       "      <th>148</th>\n",
       "      <td>6.2</td>\n",
       "      <td>3.400000</td>\n",
       "      <td>5.4</td>\n",
       "      <td>2.3</td>\n",
       "      <td>1.0</td>\n",
       "      <td>-3.528144e-10</td>\n",
       "      <td>1.000000e+00</td>\n",
       "      <td>3.385297e-09</td>\n",
       "    </tr>\n",
       "    <tr>\n",
       "      <th>149</th>\n",
       "      <td>5.9</td>\n",
       "      <td>3.000000</td>\n",
       "      <td>5.1</td>\n",
       "      <td>1.8</td>\n",
       "      <td>1.0</td>\n",
       "      <td>-3.670626e-10</td>\n",
       "      <td>9.623473e-01</td>\n",
       "      <td>3.765273e-02</td>\n",
       "    </tr>\n",
       "    <tr>\n",
       "      <th>150</th>\n",
       "      <td>J</td>\n",
       "      <td>inf</td>\n",
       "      <td>NaN</td>\n",
       "      <td>NaN</td>\n",
       "      <td>NaN</td>\n",
       "      <td>NaN</td>\n",
       "      <td>NaN</td>\n",
       "      <td>NaN</td>\n",
       "    </tr>\n",
       "    <tr>\n",
       "      <th>151</th>\n",
       "      <td>F</td>\n",
       "      <td>88.339699</td>\n",
       "      <td>NaN</td>\n",
       "      <td>NaN</td>\n",
       "      <td>NaN</td>\n",
       "      <td>NaN</td>\n",
       "      <td>NaN</td>\n",
       "      <td>NaN</td>\n",
       "    </tr>\n",
       "  </tbody>\n",
       "</table>\n",
       "<p>152 rows × 8 columns</p>\n",
       "</div>"
      ],
      "text/plain": [
       "    sepal_length  sepal_width  petal_length  petal_width  cluster  \\\n",
       "0            5.1     3.500000           1.4          0.2      0.0   \n",
       "1            4.9     3.000000           1.4          0.2      0.0   \n",
       "2            4.7     3.200000           1.3          0.2      0.0   \n",
       "3            4.6     3.100000           1.5          0.2      0.0   \n",
       "4            5.0     3.600000           1.4          0.2      0.0   \n",
       "..           ...          ...           ...          ...      ...   \n",
       "147          6.5     3.000000           5.2          2.0      1.0   \n",
       "148          6.2     3.400000           5.4          2.3      1.0   \n",
       "149          5.9     3.000000           5.1          1.8      1.0   \n",
       "150            J          inf           NaN          NaN      NaN   \n",
       "151            F    88.339699           NaN          NaN      NaN   \n",
       "\n",
       "               u0            u1            u2  \n",
       "0    1.000000e+00 -3.091345e-10 -2.384222e-10  \n",
       "1    1.000000e+00 -3.071439e-10 -2.246454e-10  \n",
       "2    1.000000e+00 -2.954367e-10 -2.626342e-10  \n",
       "3    1.000000e+00 -3.052415e-10 -2.272333e-10  \n",
       "4    1.000000e+00 -3.065066e-10 -2.484038e-10  \n",
       "..            ...           ...           ...  \n",
       "147 -3.594523e-10  1.000000e+00  1.185552e-08  \n",
       "148 -3.528144e-10  1.000000e+00  3.385297e-09  \n",
       "149 -3.670626e-10  9.623473e-01  3.765273e-02  \n",
       "150           NaN           NaN           NaN  \n",
       "151           NaN           NaN           NaN  \n",
       "\n",
       "[152 rows x 8 columns]"
      ]
     },
     "execution_count": 25,
     "metadata": {},
     "output_type": "execute_result"
    }
   ],
   "source": [
    "df_m5_rand = pd.read_csv(\"fecbo-db-m5-rand.csv\")\n",
    "df_m5_rand"
   ]
  },
  {
   "cell_type": "code",
   "execution_count": 23,
   "id": "fe75f4c1-6600-4fe5-8eb6-961b7bd14dfe",
   "metadata": {
    "collapsed": true,
    "jupyter": {
     "outputs_hidden": true
    },
    "tags": []
   },
   "outputs": [
    {
     "ename": "KeyError",
     "evalue": "'1'",
     "output_type": "error",
     "traceback": [
      "\u001b[0;31m---------------------------------------------------------------------------\u001b[0m",
      "\u001b[0;31mKeyError\u001b[0m                                  Traceback (most recent call last)",
      "File \u001b[0;32m~/opt/anaconda3/envs/clustering/lib/python3.10/site-packages/pandas/core/indexes/base.py:3621\u001b[0m, in \u001b[0;36mIndex.get_loc\u001b[0;34m(self, key, method, tolerance)\u001b[0m\n\u001b[1;32m   3620\u001b[0m \u001b[38;5;28;01mtry\u001b[39;00m:\n\u001b[0;32m-> 3621\u001b[0m     \u001b[38;5;28;01mreturn\u001b[39;00m \u001b[38;5;28;43mself\u001b[39;49m\u001b[38;5;241;43m.\u001b[39;49m\u001b[43m_engine\u001b[49m\u001b[38;5;241;43m.\u001b[39;49m\u001b[43mget_loc\u001b[49m\u001b[43m(\u001b[49m\u001b[43mcasted_key\u001b[49m\u001b[43m)\u001b[49m\n\u001b[1;32m   3622\u001b[0m \u001b[38;5;28;01mexcept\u001b[39;00m \u001b[38;5;167;01mKeyError\u001b[39;00m \u001b[38;5;28;01mas\u001b[39;00m err:\n",
      "File \u001b[0;32m~/opt/anaconda3/envs/clustering/lib/python3.10/site-packages/pandas/_libs/index.pyx:136\u001b[0m, in \u001b[0;36mpandas._libs.index.IndexEngine.get_loc\u001b[0;34m()\u001b[0m\n",
      "File \u001b[0;32m~/opt/anaconda3/envs/clustering/lib/python3.10/site-packages/pandas/_libs/index.pyx:163\u001b[0m, in \u001b[0;36mpandas._libs.index.IndexEngine.get_loc\u001b[0;34m()\u001b[0m\n",
      "File \u001b[0;32mpandas/_libs/hashtable_class_helper.pxi:5198\u001b[0m, in \u001b[0;36mpandas._libs.hashtable.PyObjectHashTable.get_item\u001b[0;34m()\u001b[0m\n",
      "File \u001b[0;32mpandas/_libs/hashtable_class_helper.pxi:5206\u001b[0m, in \u001b[0;36mpandas._libs.hashtable.PyObjectHashTable.get_item\u001b[0;34m()\u001b[0m\n",
      "\u001b[0;31mKeyError\u001b[0m: '1'",
      "\nThe above exception was the direct cause of the following exception:\n",
      "\u001b[0;31mKeyError\u001b[0m                                  Traceback (most recent call last)",
      "Input \u001b[0;32mIn [23]\u001b[0m, in \u001b[0;36m<cell line: 3>\u001b[0;34m()\u001b[0m\n\u001b[1;32m      1\u001b[0m df_m5_rand \u001b[38;5;241m=\u001b[39m pd\u001b[38;5;241m.\u001b[39mread_csv(\u001b[38;5;124m\"\u001b[39m\u001b[38;5;124mfecbo-db-m5-rand.csv\u001b[39m\u001b[38;5;124m\"\u001b[39m)\n\u001b[1;32m      2\u001b[0m rand_m5 \u001b[38;5;241m=\u001b[39m {}\n\u001b[0;32m----> 3\u001b[0m rand_m5[\u001b[38;5;124m\"\u001b[39m\u001b[38;5;124mJ\u001b[39m\u001b[38;5;124m\"\u001b[39m] \u001b[38;5;241m=\u001b[39m \u001b[43mdf_m5_rand\u001b[49m\u001b[38;5;241;43m.\u001b[39;49m\u001b[43mloc\u001b[49m\u001b[43m[\u001b[49m\u001b[38;5;241;43m100\u001b[39;49m\u001b[43m]\u001b[49m\u001b[43m[\u001b[49m\u001b[38;5;124;43m\"\u001b[39;49m\u001b[38;5;124;43m1\u001b[39;49m\u001b[38;5;124;43m\"\u001b[39;49m\u001b[43m]\u001b[49m\n\u001b[1;32m      4\u001b[0m rand_m5[\u001b[38;5;124m\"\u001b[39m\u001b[38;5;124mF\u001b[39m\u001b[38;5;124m\"\u001b[39m] \u001b[38;5;241m=\u001b[39m df_m5_rand\u001b[38;5;241m.\u001b[39mloc[\u001b[38;5;241m101\u001b[39m][\u001b[38;5;124m\"\u001b[39m\u001b[38;5;124m1\u001b[39m\u001b[38;5;124m\"\u001b[39m]\n\u001b[1;32m      5\u001b[0m rand_m5\n",
      "File \u001b[0;32m~/opt/anaconda3/envs/clustering/lib/python3.10/site-packages/pandas/core/series.py:958\u001b[0m, in \u001b[0;36mSeries.__getitem__\u001b[0;34m(self, key)\u001b[0m\n\u001b[1;32m    955\u001b[0m     \u001b[38;5;28;01mreturn\u001b[39;00m \u001b[38;5;28mself\u001b[39m\u001b[38;5;241m.\u001b[39m_values[key]\n\u001b[1;32m    957\u001b[0m \u001b[38;5;28;01melif\u001b[39;00m key_is_scalar:\n\u001b[0;32m--> 958\u001b[0m     \u001b[38;5;28;01mreturn\u001b[39;00m \u001b[38;5;28;43mself\u001b[39;49m\u001b[38;5;241;43m.\u001b[39;49m\u001b[43m_get_value\u001b[49m\u001b[43m(\u001b[49m\u001b[43mkey\u001b[49m\u001b[43m)\u001b[49m\n\u001b[1;32m    960\u001b[0m \u001b[38;5;28;01mif\u001b[39;00m is_hashable(key):\n\u001b[1;32m    961\u001b[0m     \u001b[38;5;66;03m# Otherwise index.get_value will raise InvalidIndexError\u001b[39;00m\n\u001b[1;32m    962\u001b[0m     \u001b[38;5;28;01mtry\u001b[39;00m:\n\u001b[1;32m    963\u001b[0m         \u001b[38;5;66;03m# For labels that don't resolve as scalars like tuples and frozensets\u001b[39;00m\n",
      "File \u001b[0;32m~/opt/anaconda3/envs/clustering/lib/python3.10/site-packages/pandas/core/series.py:1069\u001b[0m, in \u001b[0;36mSeries._get_value\u001b[0;34m(self, label, takeable)\u001b[0m\n\u001b[1;32m   1066\u001b[0m     \u001b[38;5;28;01mreturn\u001b[39;00m \u001b[38;5;28mself\u001b[39m\u001b[38;5;241m.\u001b[39m_values[label]\n\u001b[1;32m   1068\u001b[0m \u001b[38;5;66;03m# Similar to Index.get_value, but we do not fall back to positional\u001b[39;00m\n\u001b[0;32m-> 1069\u001b[0m loc \u001b[38;5;241m=\u001b[39m \u001b[38;5;28;43mself\u001b[39;49m\u001b[38;5;241;43m.\u001b[39;49m\u001b[43mindex\u001b[49m\u001b[38;5;241;43m.\u001b[39;49m\u001b[43mget_loc\u001b[49m\u001b[43m(\u001b[49m\u001b[43mlabel\u001b[49m\u001b[43m)\u001b[49m\n\u001b[1;32m   1070\u001b[0m \u001b[38;5;28;01mreturn\u001b[39;00m \u001b[38;5;28mself\u001b[39m\u001b[38;5;241m.\u001b[39mindex\u001b[38;5;241m.\u001b[39m_get_values_for_loc(\u001b[38;5;28mself\u001b[39m, loc, label)\n",
      "File \u001b[0;32m~/opt/anaconda3/envs/clustering/lib/python3.10/site-packages/pandas/core/indexes/base.py:3623\u001b[0m, in \u001b[0;36mIndex.get_loc\u001b[0;34m(self, key, method, tolerance)\u001b[0m\n\u001b[1;32m   3621\u001b[0m     \u001b[38;5;28;01mreturn\u001b[39;00m \u001b[38;5;28mself\u001b[39m\u001b[38;5;241m.\u001b[39m_engine\u001b[38;5;241m.\u001b[39mget_loc(casted_key)\n\u001b[1;32m   3622\u001b[0m \u001b[38;5;28;01mexcept\u001b[39;00m \u001b[38;5;167;01mKeyError\u001b[39;00m \u001b[38;5;28;01mas\u001b[39;00m err:\n\u001b[0;32m-> 3623\u001b[0m     \u001b[38;5;28;01mraise\u001b[39;00m \u001b[38;5;167;01mKeyError\u001b[39;00m(key) \u001b[38;5;28;01mfrom\u001b[39;00m \u001b[38;5;21;01merr\u001b[39;00m\n\u001b[1;32m   3624\u001b[0m \u001b[38;5;28;01mexcept\u001b[39;00m \u001b[38;5;167;01mTypeError\u001b[39;00m:\n\u001b[1;32m   3625\u001b[0m     \u001b[38;5;66;03m# If we have a listlike key, _check_indexing_error will raise\u001b[39;00m\n\u001b[1;32m   3626\u001b[0m     \u001b[38;5;66;03m#  InvalidIndexError. Otherwise we fall through and re-raise\u001b[39;00m\n\u001b[1;32m   3627\u001b[0m     \u001b[38;5;66;03m#  the TypeError.\u001b[39;00m\n\u001b[1;32m   3628\u001b[0m     \u001b[38;5;28mself\u001b[39m\u001b[38;5;241m.\u001b[39m_check_indexing_error(key)\n",
      "\u001b[0;31mKeyError\u001b[0m: '1'"
     ]
    }
   ],
   "source": [
    "df_m5_rand = pd.read_csv(\"fecbo-db-m5-rand.csv\")\n",
    "rand_m5 = {}\n",
    "rand_m5[\"J\"] = df_m5_rand.loc[100][\"1\"]\n",
    "rand_m5[\"F\"] = df_m5_rand.loc[101][\"1\"]\n",
    "rand_m5 "
   ]
  },
  {
   "cell_type": "code",
   "execution_count": 21,
   "id": "3c1afdd9-49d2-4903-966e-f36a0903a96d",
   "metadata": {},
   "outputs": [],
   "source": [
    "df_m3_rand = df_m3_rand[:150]\n",
    "df_m3_rand[\"J\"] = rand_m3 [\"J\"]\n",
    "df_m3_rand[\"F\"] = rand_m3 [\"F\"]\n",
    "df_m3.to_csv('fecbo-db-m3-rand.csv',index=False)"
   ]
  },
  {
   "cell_type": "code",
   "execution_count": null,
   "id": "30c36774-8f60-4423-8cc0-49208dd0f4a8",
   "metadata": {},
   "outputs": [],
   "source": []
  }
 ],
 "metadata": {
  "kernelspec": {
   "display_name": "Python 3 (ipykernel)",
   "language": "python",
   "name": "python3"
  },
  "language_info": {
   "codemirror_mode": {
    "name": "ipython",
    "version": 3
   },
   "file_extension": ".py",
   "mimetype": "text/x-python",
   "name": "python",
   "nbconvert_exporter": "python",
   "pygments_lexer": "ipython3",
   "version": "3.9.16"
  }
 },
 "nbformat": 4,
 "nbformat_minor": 5
}
