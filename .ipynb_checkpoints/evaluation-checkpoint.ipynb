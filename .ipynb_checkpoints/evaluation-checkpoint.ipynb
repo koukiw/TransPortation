{
 "cells": [
  {
   "cell_type": "code",
   "execution_count": 61,
   "id": "aeb0dab2-909a-4bb2-b174-5e9c87dde3c8",
   "metadata": {},
   "outputs": [
    {
     "name": "stdin",
     "output_type": "stream",
     "text": [
      "Once deleted, variables cannot be recovered. Proceed (y/[n])?  y\n"
     ]
    }
   ],
   "source": [
    "%reset"
   ]
  },
  {
   "cell_type": "markdown",
   "id": "ca86c493-3153-4ca3-b4f1-8dace732ac81",
   "metadata": {},
   "source": [
    "各手法ごとに帰属度と目的関数、評価関数の値をcsvに書き出した後、それぞれ一覧で出力しているファイル"
   ]
  },
  {
   "cell_type": "code",
   "execution_count": 2,
   "id": "a9d92fdd-0927-472a-90e7-ac6f9d0da475",
   "metadata": {},
   "outputs": [],
   "source": [
    "import pandas as pd"
   ]
  },
  {
   "cell_type": "code",
   "execution_count": 3,
   "id": "efcecf8d-2dbf-42f5-8c7c-a218e19ae405",
   "metadata": {},
   "outputs": [
    {
     "data": {
      "text/html": [
       "<div>\n",
       "<style scoped>\n",
       "    .dataframe tbody tr th:only-of-type {\n",
       "        vertical-align: middle;\n",
       "    }\n",
       "\n",
       "    .dataframe tbody tr th {\n",
       "        vertical-align: top;\n",
       "    }\n",
       "\n",
       "    .dataframe thead th {\n",
       "        text-align: right;\n",
       "    }\n",
       "</style>\n",
       "<table border=\"1\" class=\"dataframe\">\n",
       "  <thead>\n",
       "    <tr style=\"text-align: right;\">\n",
       "      <th></th>\n",
       "      <th>sepal_length</th>\n",
       "      <th>sepal_width</th>\n",
       "      <th>petal_length</th>\n",
       "      <th>petal_width</th>\n",
       "      <th>cluster</th>\n",
       "      <th>u0</th>\n",
       "      <th>u1</th>\n",
       "      <th>u2</th>\n",
       "    </tr>\n",
       "  </thead>\n",
       "  <tbody>\n",
       "    <tr>\n",
       "      <th>0</th>\n",
       "      <td>5.1</td>\n",
       "      <td>3.500000</td>\n",
       "      <td>1.4</td>\n",
       "      <td>0.2</td>\n",
       "      <td>1.0</td>\n",
       "      <td>0.060611</td>\n",
       "      <td>0.885228</td>\n",
       "      <td>0.054161</td>\n",
       "    </tr>\n",
       "    <tr>\n",
       "      <th>1</th>\n",
       "      <td>4.9</td>\n",
       "      <td>3.000000</td>\n",
       "      <td>1.4</td>\n",
       "      <td>0.2</td>\n",
       "      <td>1.0</td>\n",
       "      <td>0.108113</td>\n",
       "      <td>0.810330</td>\n",
       "      <td>0.081557</td>\n",
       "    </tr>\n",
       "    <tr>\n",
       "      <th>2</th>\n",
       "      <td>4.7</td>\n",
       "      <td>3.200000</td>\n",
       "      <td>1.3</td>\n",
       "      <td>0.2</td>\n",
       "      <td>1.0</td>\n",
       "      <td>0.101756</td>\n",
       "      <td>0.820053</td>\n",
       "      <td>0.078190</td>\n",
       "    </tr>\n",
       "    <tr>\n",
       "      <th>3</th>\n",
       "      <td>4.6</td>\n",
       "      <td>3.100000</td>\n",
       "      <td>1.5</td>\n",
       "      <td>0.2</td>\n",
       "      <td>1.0</td>\n",
       "      <td>0.122551</td>\n",
       "      <td>0.786852</td>\n",
       "      <td>0.090597</td>\n",
       "    </tr>\n",
       "    <tr>\n",
       "      <th>4</th>\n",
       "      <td>5.0</td>\n",
       "      <td>3.600000</td>\n",
       "      <td>1.4</td>\n",
       "      <td>0.2</td>\n",
       "      <td>1.0</td>\n",
       "      <td>0.070286</td>\n",
       "      <td>0.870102</td>\n",
       "      <td>0.059612</td>\n",
       "    </tr>\n",
       "    <tr>\n",
       "      <th>...</th>\n",
       "      <td>...</td>\n",
       "      <td>...</td>\n",
       "      <td>...</td>\n",
       "      <td>...</td>\n",
       "      <td>...</td>\n",
       "      <td>...</td>\n",
       "      <td>...</td>\n",
       "      <td>...</td>\n",
       "    </tr>\n",
       "    <tr>\n",
       "      <th>147</th>\n",
       "      <td>6.5</td>\n",
       "      <td>3.000000</td>\n",
       "      <td>5.2</td>\n",
       "      <td>2.0</td>\n",
       "      <td>2.0</td>\n",
       "      <td>0.173925</td>\n",
       "      <td>0.041181</td>\n",
       "      <td>0.784894</td>\n",
       "    </tr>\n",
       "    <tr>\n",
       "      <th>148</th>\n",
       "      <td>6.2</td>\n",
       "      <td>3.400000</td>\n",
       "      <td>5.4</td>\n",
       "      <td>2.3</td>\n",
       "      <td>2.0</td>\n",
       "      <td>0.257683</td>\n",
       "      <td>0.084530</td>\n",
       "      <td>0.657787</td>\n",
       "    </tr>\n",
       "    <tr>\n",
       "      <th>149</th>\n",
       "      <td>5.9</td>\n",
       "      <td>3.000000</td>\n",
       "      <td>5.1</td>\n",
       "      <td>1.8</td>\n",
       "      <td>2.0</td>\n",
       "      <td>0.432544</td>\n",
       "      <td>0.091590</td>\n",
       "      <td>0.475866</td>\n",
       "    </tr>\n",
       "    <tr>\n",
       "      <th>150</th>\n",
       "      <td>J</td>\n",
       "      <td>29.289736</td>\n",
       "      <td>NaN</td>\n",
       "      <td>NaN</td>\n",
       "      <td>NaN</td>\n",
       "      <td>NaN</td>\n",
       "      <td>NaN</td>\n",
       "      <td>NaN</td>\n",
       "    </tr>\n",
       "    <tr>\n",
       "      <th>151</th>\n",
       "      <td>F</td>\n",
       "      <td>835.958407</td>\n",
       "      <td>NaN</td>\n",
       "      <td>NaN</td>\n",
       "      <td>NaN</td>\n",
       "      <td>NaN</td>\n",
       "      <td>NaN</td>\n",
       "      <td>NaN</td>\n",
       "    </tr>\n",
       "  </tbody>\n",
       "</table>\n",
       "<p>152 rows × 8 columns</p>\n",
       "</div>"
      ],
      "text/plain": [
       "    sepal_length  sepal_width  petal_length  petal_width  cluster        u0  \\\n",
       "0            5.1     3.500000           1.4          0.2      1.0  0.060611   \n",
       "1            4.9     3.000000           1.4          0.2      1.0  0.108113   \n",
       "2            4.7     3.200000           1.3          0.2      1.0  0.101756   \n",
       "3            4.6     3.100000           1.5          0.2      1.0  0.122551   \n",
       "4            5.0     3.600000           1.4          0.2      1.0  0.070286   \n",
       "..           ...          ...           ...          ...      ...       ...   \n",
       "147          6.5     3.000000           5.2          2.0      2.0  0.173925   \n",
       "148          6.2     3.400000           5.4          2.3      2.0  0.257683   \n",
       "149          5.9     3.000000           5.1          1.8      2.0  0.432544   \n",
       "150            J    29.289736           NaN          NaN      NaN       NaN   \n",
       "151            F   835.958407           NaN          NaN      NaN       NaN   \n",
       "\n",
       "           u1        u2  \n",
       "0    0.885228  0.054161  \n",
       "1    0.810330  0.081557  \n",
       "2    0.820053  0.078190  \n",
       "3    0.786852  0.090597  \n",
       "4    0.870102  0.059612  \n",
       "..        ...       ...  \n",
       "147  0.041181  0.784894  \n",
       "148  0.084530  0.657787  \n",
       "149  0.091590  0.475866  \n",
       "150       NaN       NaN  \n",
       "151       NaN       NaN  \n",
       "\n",
       "[152 rows x 8 columns]"
      ]
     },
     "execution_count": 3,
     "metadata": {},
     "output_type": "execute_result"
    }
   ],
   "source": [
    "df_m3 = pd.read_csv(\"fecbo-db-m3-iris.csv\")\n",
    "df_m3"
   ]
  },
  {
   "cell_type": "code",
   "execution_count": 4,
   "id": "b4bdda25-6774-411e-a155-c003c2ecb271",
   "metadata": {},
   "outputs": [
    {
     "data": {
      "text/plain": [
       "{'J': 29.289735663504533, 'F': 835.9584066789748}"
      ]
     },
     "execution_count": 4,
     "metadata": {},
     "output_type": "execute_result"
    }
   ],
   "source": [
    "df_m3 = pd.read_csv(\"fecbo-db-m3-iris.csv\")\n",
    "m3 = {}\n",
    "m3[\"J\"] = df_m3.loc[150][\"sepal_width\"]\n",
    "m3[\"F\"] = df_m3.loc[151][\"sepal_width\"]\n",
    "m3"
   ]
  },
  {
   "cell_type": "code",
   "execution_count": 65,
   "id": "b0063953-a801-4ede-91d0-ff045b3ab3ad",
   "metadata": {},
   "outputs": [
    {
     "data": {
      "text/plain": [
       "{'J': 4.254850237086912, 'F': 1454.160086057192}"
      ]
     },
     "execution_count": 65,
     "metadata": {},
     "output_type": "execute_result"
    }
   ],
   "source": [
    "df_m5 = pd.read_csv(\"fecbo-db-m5-iris.csv\")\n",
    "m5 = {}\n",
    "m5[\"J\"] = df_m5.loc[150][\"sepal_width\"]\n",
    "m5[\"F\"] = df_m5.loc[151][\"sepal_width\"]\n",
    "m5"
   ]
  },
  {
   "cell_type": "code",
   "execution_count": 66,
   "id": "312be144-d1c9-4d25-8e88-29895a79e616",
   "metadata": {},
   "outputs": [
    {
     "data": {
      "text/plain": [
       "{'J': 0.18012164024442, 'F': 1785.6306597921157}"
      ]
     },
     "execution_count": 66,
     "metadata": {},
     "output_type": "execute_result"
    }
   ],
   "source": [
    "df_m8 = pd.read_csv(\"fecbo-db-m8-iris.csv\")\n",
    "m8 = {}\n",
    "m8[\"J\"] = df_m8.loc[150][\"sepal_width\"]\n",
    "m8[\"F\"] = df_m8.loc[151][\"sepal_width\"]\n",
    "m8"
   ]
  },
  {
   "cell_type": "code",
   "execution_count": 67,
   "id": "2343af2e-b17e-4c44-8f1b-4d02821c648a",
   "metadata": {},
   "outputs": [
    {
     "data": {
      "text/plain": [
       "{'J': 0.5603847272533886, 'F': 32.667265517970215}"
      ]
     },
     "execution_count": 67,
     "metadata": {},
     "output_type": "execute_result"
    }
   ],
   "source": [
    "df_m3_rand = pd.read_csv(\"fecbo-db-m3-rand.csv\")\n",
    "rand_m3 = {}\n",
    "rand_m3[\"J\"] = df_m3_rand.loc[100][\"1\"]\n",
    "rand_m3[\"F\"] = df_m3_rand.loc[101][\"1\"]\n",
    "rand_m3 "
   ]
  },
  {
   "cell_type": "code",
   "execution_count": 68,
   "id": "50a59c95-7ffa-48ca-8211-b901c800177a",
   "metadata": {},
   "outputs": [
    {
     "data": {
      "text/plain": [
       "{'J': 0.0254977934291202, 'F': 32.205874979319205}"
      ]
     },
     "execution_count": 68,
     "metadata": {},
     "output_type": "execute_result"
    }
   ],
   "source": [
    "df_m5_rand = pd.read_csv(\"fecbo-db-m5-rand.csv\")\n",
    "rand_m5 = {}\n",
    "rand_m5[\"J\"] = df_m5_rand.loc[100][\"1\"]\n",
    "rand_m5[\"F\"] = df_m5_rand.loc[101][\"1\"]\n",
    "rand_m5 "
   ]
  },
  {
   "cell_type": "code",
   "execution_count": null,
   "id": "b5f7abc6-3f24-4b88-bd6c-fc0458b0f4e6",
   "metadata": {},
   "outputs": [],
   "source": []
  },
  {
   "cell_type": "code",
   "execution_count": null,
   "id": "a08b8812-c62b-467c-8a0a-80ba965ceb44",
   "metadata": {},
   "outputs": [],
   "source": []
  },
  {
   "cell_type": "code",
   "execution_count": null,
   "id": "b27643ce-8270-4356-943d-9687befb3022",
   "metadata": {},
   "outputs": [],
   "source": []
  },
  {
   "cell_type": "code",
   "execution_count": 24,
   "id": "0614bce7-4834-4af0-97ab-24ecc5478f4f",
   "metadata": {},
   "outputs": [],
   "source": [
    "df_m5_rand = pd.read_csv(\"fecbo-db-m5-rand.csv\")\n",
    "df_m5_rand"
   ]
  },
  {
   "cell_type": "code",
   "execution_count": 23,
   "id": "fe75f4c1-6600-4fe5-8eb6-961b7bd14dfe",
   "metadata": {},
   "outputs": [
    {
     "ename": "KeyError",
     "evalue": "'1'",
     "output_type": "error",
     "traceback": [
      "\u001b[0;31m---------------------------------------------------------------------------\u001b[0m",
      "\u001b[0;31mKeyError\u001b[0m                                  Traceback (most recent call last)",
      "File \u001b[0;32m~/opt/anaconda3/envs/clustering/lib/python3.10/site-packages/pandas/core/indexes/base.py:3621\u001b[0m, in \u001b[0;36mIndex.get_loc\u001b[0;34m(self, key, method, tolerance)\u001b[0m\n\u001b[1;32m   3620\u001b[0m \u001b[38;5;28;01mtry\u001b[39;00m:\n\u001b[0;32m-> 3621\u001b[0m     \u001b[38;5;28;01mreturn\u001b[39;00m \u001b[38;5;28;43mself\u001b[39;49m\u001b[38;5;241;43m.\u001b[39;49m\u001b[43m_engine\u001b[49m\u001b[38;5;241;43m.\u001b[39;49m\u001b[43mget_loc\u001b[49m\u001b[43m(\u001b[49m\u001b[43mcasted_key\u001b[49m\u001b[43m)\u001b[49m\n\u001b[1;32m   3622\u001b[0m \u001b[38;5;28;01mexcept\u001b[39;00m \u001b[38;5;167;01mKeyError\u001b[39;00m \u001b[38;5;28;01mas\u001b[39;00m err:\n",
      "File \u001b[0;32m~/opt/anaconda3/envs/clustering/lib/python3.10/site-packages/pandas/_libs/index.pyx:136\u001b[0m, in \u001b[0;36mpandas._libs.index.IndexEngine.get_loc\u001b[0;34m()\u001b[0m\n",
      "File \u001b[0;32m~/opt/anaconda3/envs/clustering/lib/python3.10/site-packages/pandas/_libs/index.pyx:163\u001b[0m, in \u001b[0;36mpandas._libs.index.IndexEngine.get_loc\u001b[0;34m()\u001b[0m\n",
      "File \u001b[0;32mpandas/_libs/hashtable_class_helper.pxi:5198\u001b[0m, in \u001b[0;36mpandas._libs.hashtable.PyObjectHashTable.get_item\u001b[0;34m()\u001b[0m\n",
      "File \u001b[0;32mpandas/_libs/hashtable_class_helper.pxi:5206\u001b[0m, in \u001b[0;36mpandas._libs.hashtable.PyObjectHashTable.get_item\u001b[0;34m()\u001b[0m\n",
      "\u001b[0;31mKeyError\u001b[0m: '1'",
      "\nThe above exception was the direct cause of the following exception:\n",
      "\u001b[0;31mKeyError\u001b[0m                                  Traceback (most recent call last)",
      "Input \u001b[0;32mIn [23]\u001b[0m, in \u001b[0;36m<cell line: 3>\u001b[0;34m()\u001b[0m\n\u001b[1;32m      1\u001b[0m df_m5_rand \u001b[38;5;241m=\u001b[39m pd\u001b[38;5;241m.\u001b[39mread_csv(\u001b[38;5;124m\"\u001b[39m\u001b[38;5;124mfecbo-db-m5-rand.csv\u001b[39m\u001b[38;5;124m\"\u001b[39m)\n\u001b[1;32m      2\u001b[0m rand_m5 \u001b[38;5;241m=\u001b[39m {}\n\u001b[0;32m----> 3\u001b[0m rand_m5[\u001b[38;5;124m\"\u001b[39m\u001b[38;5;124mJ\u001b[39m\u001b[38;5;124m\"\u001b[39m] \u001b[38;5;241m=\u001b[39m \u001b[43mdf_m5_rand\u001b[49m\u001b[38;5;241;43m.\u001b[39;49m\u001b[43mloc\u001b[49m\u001b[43m[\u001b[49m\u001b[38;5;241;43m100\u001b[39;49m\u001b[43m]\u001b[49m\u001b[43m[\u001b[49m\u001b[38;5;124;43m\"\u001b[39;49m\u001b[38;5;124;43m1\u001b[39;49m\u001b[38;5;124;43m\"\u001b[39;49m\u001b[43m]\u001b[49m\n\u001b[1;32m      4\u001b[0m rand_m5[\u001b[38;5;124m\"\u001b[39m\u001b[38;5;124mF\u001b[39m\u001b[38;5;124m\"\u001b[39m] \u001b[38;5;241m=\u001b[39m df_m5_rand\u001b[38;5;241m.\u001b[39mloc[\u001b[38;5;241m101\u001b[39m][\u001b[38;5;124m\"\u001b[39m\u001b[38;5;124m1\u001b[39m\u001b[38;5;124m\"\u001b[39m]\n\u001b[1;32m      5\u001b[0m rand_m5\n",
      "File \u001b[0;32m~/opt/anaconda3/envs/clustering/lib/python3.10/site-packages/pandas/core/series.py:958\u001b[0m, in \u001b[0;36mSeries.__getitem__\u001b[0;34m(self, key)\u001b[0m\n\u001b[1;32m    955\u001b[0m     \u001b[38;5;28;01mreturn\u001b[39;00m \u001b[38;5;28mself\u001b[39m\u001b[38;5;241m.\u001b[39m_values[key]\n\u001b[1;32m    957\u001b[0m \u001b[38;5;28;01melif\u001b[39;00m key_is_scalar:\n\u001b[0;32m--> 958\u001b[0m     \u001b[38;5;28;01mreturn\u001b[39;00m \u001b[38;5;28;43mself\u001b[39;49m\u001b[38;5;241;43m.\u001b[39;49m\u001b[43m_get_value\u001b[49m\u001b[43m(\u001b[49m\u001b[43mkey\u001b[49m\u001b[43m)\u001b[49m\n\u001b[1;32m    960\u001b[0m \u001b[38;5;28;01mif\u001b[39;00m is_hashable(key):\n\u001b[1;32m    961\u001b[0m     \u001b[38;5;66;03m# Otherwise index.get_value will raise InvalidIndexError\u001b[39;00m\n\u001b[1;32m    962\u001b[0m     \u001b[38;5;28;01mtry\u001b[39;00m:\n\u001b[1;32m    963\u001b[0m         \u001b[38;5;66;03m# For labels that don't resolve as scalars like tuples and frozensets\u001b[39;00m\n",
      "File \u001b[0;32m~/opt/anaconda3/envs/clustering/lib/python3.10/site-packages/pandas/core/series.py:1069\u001b[0m, in \u001b[0;36mSeries._get_value\u001b[0;34m(self, label, takeable)\u001b[0m\n\u001b[1;32m   1066\u001b[0m     \u001b[38;5;28;01mreturn\u001b[39;00m \u001b[38;5;28mself\u001b[39m\u001b[38;5;241m.\u001b[39m_values[label]\n\u001b[1;32m   1068\u001b[0m \u001b[38;5;66;03m# Similar to Index.get_value, but we do not fall back to positional\u001b[39;00m\n\u001b[0;32m-> 1069\u001b[0m loc \u001b[38;5;241m=\u001b[39m \u001b[38;5;28;43mself\u001b[39;49m\u001b[38;5;241;43m.\u001b[39;49m\u001b[43mindex\u001b[49m\u001b[38;5;241;43m.\u001b[39;49m\u001b[43mget_loc\u001b[49m\u001b[43m(\u001b[49m\u001b[43mlabel\u001b[49m\u001b[43m)\u001b[49m\n\u001b[1;32m   1070\u001b[0m \u001b[38;5;28;01mreturn\u001b[39;00m \u001b[38;5;28mself\u001b[39m\u001b[38;5;241m.\u001b[39mindex\u001b[38;5;241m.\u001b[39m_get_values_for_loc(\u001b[38;5;28mself\u001b[39m, loc, label)\n",
      "File \u001b[0;32m~/opt/anaconda3/envs/clustering/lib/python3.10/site-packages/pandas/core/indexes/base.py:3623\u001b[0m, in \u001b[0;36mIndex.get_loc\u001b[0;34m(self, key, method, tolerance)\u001b[0m\n\u001b[1;32m   3621\u001b[0m     \u001b[38;5;28;01mreturn\u001b[39;00m \u001b[38;5;28mself\u001b[39m\u001b[38;5;241m.\u001b[39m_engine\u001b[38;5;241m.\u001b[39mget_loc(casted_key)\n\u001b[1;32m   3622\u001b[0m \u001b[38;5;28;01mexcept\u001b[39;00m \u001b[38;5;167;01mKeyError\u001b[39;00m \u001b[38;5;28;01mas\u001b[39;00m err:\n\u001b[0;32m-> 3623\u001b[0m     \u001b[38;5;28;01mraise\u001b[39;00m \u001b[38;5;167;01mKeyError\u001b[39;00m(key) \u001b[38;5;28;01mfrom\u001b[39;00m \u001b[38;5;21;01merr\u001b[39;00m\n\u001b[1;32m   3624\u001b[0m \u001b[38;5;28;01mexcept\u001b[39;00m \u001b[38;5;167;01mTypeError\u001b[39;00m:\n\u001b[1;32m   3625\u001b[0m     \u001b[38;5;66;03m# If we have a listlike key, _check_indexing_error will raise\u001b[39;00m\n\u001b[1;32m   3626\u001b[0m     \u001b[38;5;66;03m#  InvalidIndexError. Otherwise we fall through and re-raise\u001b[39;00m\n\u001b[1;32m   3627\u001b[0m     \u001b[38;5;66;03m#  the TypeError.\u001b[39;00m\n\u001b[1;32m   3628\u001b[0m     \u001b[38;5;28mself\u001b[39m\u001b[38;5;241m.\u001b[39m_check_indexing_error(key)\n",
      "\u001b[0;31mKeyError\u001b[0m: '1'"
     ]
    }
   ],
   "source": [
    "df_m5_rand = pd.read_csv(\"fecbo-db-m5-rand.csv\")\n",
    "rand_m5 = {}\n",
    "rand_m5[\"J\"] = df_m5_rand.loc[100][\"1\"]\n",
    "rand_m5[\"F\"] = df_m5_rand.loc[101][\"1\"]\n",
    "rand_m5 "
   ]
  },
  {
   "cell_type": "code",
   "execution_count": 21,
   "id": "3c1afdd9-49d2-4903-966e-f36a0903a96d",
   "metadata": {},
   "outputs": [],
   "source": [
    "df_m3_rand = df_m3_rand[:150]\n",
    "df_m3_rand[\"J\"] = rand_m3 [\"J\"]\n",
    "df_m3_rand[\"F\"] = rand_m3 [\"F\"]\n",
    "df_m3.to_csv('fecbo-db-m3-rand.csv',index=False)"
   ]
  },
  {
   "cell_type": "code",
   "execution_count": null,
   "id": "30c36774-8f60-4423-8cc0-49208dd0f4a8",
   "metadata": {},
   "outputs": [],
   "source": []
  }
 ],
 "metadata": {
  "kernelspec": {
   "display_name": "Python 3 (ipykernel)",
   "language": "python",
   "name": "python3"
  },
  "language_info": {
   "codemirror_mode": {
    "name": "ipython",
    "version": 3
   },
   "file_extension": ".py",
   "mimetype": "text/x-python",
   "name": "python",
   "nbconvert_exporter": "python",
   "pygments_lexer": "ipython3",
   "version": "3.10.4"
  }
 },
 "nbformat": 4,
 "nbformat_minor": 5
}
