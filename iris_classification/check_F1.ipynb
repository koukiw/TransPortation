{
 "cells": [
  {
   "cell_type": "code",
   "execution_count": 1,
   "id": "53966519-5101-4f66-b21d-f29b8f63cc01",
   "metadata": {},
   "outputs": [
    {
     "name": "stdin",
     "output_type": "stream",
     "text": [
      "Once deleted, variables cannot be recovered. Proceed (y/[n])?  y\n"
     ]
    }
   ],
   "source": [
    "%reset"
   ]
  },
  {
   "cell_type": "markdown",
   "id": "f1dc4a8b-de8b-468d-9fe3-1c2505d502ac",
   "metadata": {},
   "source": [
    "11/7 評価関数F2を各手法ごとに追記(上書きでミスってた時が怖いため，ファイル名を\"データセット-手法-addF2.csv\"に変更)"
   ]
  },
  {
   "cell_type": "code",
   "execution_count": 2,
   "id": "10f529f7-46c0-42d3-9025-b26c061a5895",
   "metadata": {},
   "outputs": [],
   "source": [
    "import pandas as pd\n",
    "import numpy as np\n",
    "import matplotlib.pyplot as plt\n",
    "import cvxpy as cp\n",
    "#sysはコマンドライン引数\n",
    "import sys\n",
    "import csv\n",
    "import math\n",
    "c = 3"
   ]
  },
  {
   "cell_type": "code",
   "execution_count": 3,
   "id": "8ac12ad2-3c27-433f-ba70-9a490f3c8c2e",
   "metadata": {},
   "outputs": [],
   "source": [
    "#fcm,fecbo-dbクラスタ中心計算部分関数作成\n",
    "def v_calculation(u_m,c,dimension,X):\n",
    "    #分母計算(クラスタサイズになるはず)\n",
    "    v_denominator = np.sum(u_m,axis=0)\n",
    "    #分子計算\n",
    "    v_numerator = np.zeros((c,dimension))\n",
    "    for j in range(c):\n",
    "        for i in range(X_size):\n",
    "            v_numerator[j]+= u_m[i][j]*X[i]\n",
    "   \n",
    "    v = np.zeros((c,dimension ))\n",
    "    for i in range(c):\n",
    "        v[i] = v_numerator[i]/v_denominator[i]\n",
    "    return v"
   ]
  },
  {
   "cell_type": "code",
   "execution_count": 17,
   "id": "49c23187-99f5-49ef-9674-64dc5429df32",
   "metadata": {},
   "outputs": [],
   "source": [
    "#引数(クラスタ数(c),クラスター(cluster),データセット(X),クラスター中心(v)、\\\n",
    "#ファジィ化パラム(param(mかlam_1))、帰属度(u))\n",
    "\n",
    "def calc_F(c,cluster,X,v,param,u,model):\n",
    "    #中心間距離の作成\n",
    "    center_distance = np.zeros((c,c))\n",
    "    for i in range(c):\n",
    "        for j in range(c):\n",
    "            center_distance[i][j]= np.sum((v[i]-v[j])**2)\n",
    "    print(\"center_distance\")\n",
    "    print(center_distance)\n",
    "    #dにはd11,d12,d13,d14,d21,d22,,,dn1,,dncの順でリスト作る\n",
    "    d_list=[]\n",
    "    for i in range(X_size):\n",
    "        for j in range(c):\n",
    "            d_list.append(np.sum((X[i]-v[j])**2))\n",
    "    d = np.array(d_list)\n",
    "    d = d.reshape([X_size,c])\n",
    "    print(\"d[0]\",d[0])\n",
    "\n",
    "    new_d = np.zeros((X_size,c))\n",
    "    #ここが怪しい\n",
    "    for i in range(c):\n",
    "        new_d[cluster == i] = d[cluster == i]+center_distance[i]\n",
    "    print(\"new_d[0] = d_{ki}+d_{ii*}\",new_d[0])\n",
    "\n",
    "    #評価関数F_1計算(ついでにJも再計算してあってるか確認)\n",
    "    F_1 = 0\n",
    "    for i in range(X_size):\n",
    "        F_1 += np.sum(u[i] * new_d[i])\n",
    "    #目的関数の再計算（確認）\n",
    "    kakunin_J = 0\n",
    "    if (model ==\"fecbo-db\") or (model == \"fcm\"):\n",
    "        u_m = u**param\n",
    "        for i in range(X_size):\n",
    "            kakunin_J += np.sum(u_m[i] * d[i])\n",
    "    if model ==\"fecbo-e\":\n",
    "        for i in range(X_size):\n",
    "            for j in range(c):\n",
    "                kakunin_J += u[i][j]*d[i][j]+param*u[i][j]*math.log(u[i][j])\n",
    "    \n",
    "        \n",
    "    #評価関数F_2計算\n",
    "    F_2 = 0\n",
    "    new_u = np.copy(u)\n",
    "    for i in range(X_size):\n",
    "        new_u[i][cluster[i]] = 0\n",
    "    for i in range(X_size):\n",
    "        F_2 += np.sum(new_u[i] * new_d[i])\n",
    "    #この初期値のときの結果が優れている場合，bestを更新\n",
    "    print(\"Jの値:\",J)\n",
    "    print(\"Jの値を再計算:\",kakunin_J)\n",
    "    print(\"F_1の値:\",F_1)\n",
    "    print(\"F_2の値:\",F_2)\n",
    "    return F_1,F_2,d,new_d"
   ]
  },
  {
   "cell_type": "markdown",
   "id": "ee3e46b1-9398-4ec7-b848-4d3fcbf49030",
   "metadata": {
    "tags": []
   },
   "source": [
    "## FCMへのF2の記入"
   ]
  },
  {
   "cell_type": "code",
   "execution_count": 5,
   "id": "8247ba18-251a-44ce-974f-45c2ce1349bd",
   "metadata": {},
   "outputs": [
    {
     "data": {
      "text/html": [
       "<div>\n",
       "<style scoped>\n",
       "    .dataframe tbody tr th:only-of-type {\n",
       "        vertical-align: middle;\n",
       "    }\n",
       "\n",
       "    .dataframe tbody tr th {\n",
       "        vertical-align: top;\n",
       "    }\n",
       "\n",
       "    .dataframe thead th {\n",
       "        text-align: right;\n",
       "    }\n",
       "</style>\n",
       "<table border=\"1\" class=\"dataframe\">\n",
       "  <thead>\n",
       "    <tr style=\"text-align: right;\">\n",
       "      <th></th>\n",
       "      <th>sepal_length</th>\n",
       "      <th>sepal_width</th>\n",
       "      <th>petal_length</th>\n",
       "      <th>petal_width</th>\n",
       "      <th>cluster</th>\n",
       "      <th>u1</th>\n",
       "      <th>u2</th>\n",
       "      <th>u3</th>\n",
       "      <th>J</th>\n",
       "      <th>F</th>\n",
       "      <th>F2</th>\n",
       "    </tr>\n",
       "  </thead>\n",
       "  <tbody>\n",
       "    <tr>\n",
       "      <th>0</th>\n",
       "      <td>5.1</td>\n",
       "      <td>3.5</td>\n",
       "      <td>1.4</td>\n",
       "      <td>0.2</td>\n",
       "      <td>0</td>\n",
       "      <td>0.915676</td>\n",
       "      <td>0.034733</td>\n",
       "      <td>0.049591</td>\n",
       "      <td>29.110238</td>\n",
       "      <td>834.025086</td>\n",
       "      <td>786.268279</td>\n",
       "    </tr>\n",
       "    <tr>\n",
       "      <th>1</th>\n",
       "      <td>4.9</td>\n",
       "      <td>3.0</td>\n",
       "      <td>1.4</td>\n",
       "      <td>0.2</td>\n",
       "      <td>0</td>\n",
       "      <td>0.827251</td>\n",
       "      <td>0.070570</td>\n",
       "      <td>0.102178</td>\n",
       "      <td>29.110238</td>\n",
       "      <td>834.025086</td>\n",
       "      <td>786.268279</td>\n",
       "    </tr>\n",
       "    <tr>\n",
       "      <th>2</th>\n",
       "      <td>4.7</td>\n",
       "      <td>3.2</td>\n",
       "      <td>1.3</td>\n",
       "      <td>0.2</td>\n",
       "      <td>0</td>\n",
       "      <td>0.835861</td>\n",
       "      <td>0.067695</td>\n",
       "      <td>0.096444</td>\n",
       "      <td>29.110238</td>\n",
       "      <td>834.025086</td>\n",
       "      <td>786.268279</td>\n",
       "    </tr>\n",
       "    <tr>\n",
       "      <th>3</th>\n",
       "      <td>4.6</td>\n",
       "      <td>3.1</td>\n",
       "      <td>1.5</td>\n",
       "      <td>0.2</td>\n",
       "      <td>0</td>\n",
       "      <td>0.801531</td>\n",
       "      <td>0.081068</td>\n",
       "      <td>0.117401</td>\n",
       "      <td>29.110238</td>\n",
       "      <td>834.025086</td>\n",
       "      <td>786.268279</td>\n",
       "    </tr>\n",
       "    <tr>\n",
       "      <th>4</th>\n",
       "      <td>5.0</td>\n",
       "      <td>3.6</td>\n",
       "      <td>1.4</td>\n",
       "      <td>0.2</td>\n",
       "      <td>0</td>\n",
       "      <td>0.894932</td>\n",
       "      <td>0.043400</td>\n",
       "      <td>0.061669</td>\n",
       "      <td>29.110238</td>\n",
       "      <td>834.025086</td>\n",
       "      <td>786.268279</td>\n",
       "    </tr>\n",
       "    <tr>\n",
       "      <th>...</th>\n",
       "      <td>...</td>\n",
       "      <td>...</td>\n",
       "      <td>...</td>\n",
       "      <td>...</td>\n",
       "      <td>...</td>\n",
       "      <td>...</td>\n",
       "      <td>...</td>\n",
       "      <td>...</td>\n",
       "      <td>...</td>\n",
       "      <td>...</td>\n",
       "      <td>...</td>\n",
       "    </tr>\n",
       "    <tr>\n",
       "      <th>145</th>\n",
       "      <td>6.7</td>\n",
       "      <td>3.0</td>\n",
       "      <td>5.2</td>\n",
       "      <td>2.3</td>\n",
       "      <td>1</td>\n",
       "      <td>0.069029</td>\n",
       "      <td>0.715875</td>\n",
       "      <td>0.215096</td>\n",
       "      <td>29.110238</td>\n",
       "      <td>834.025086</td>\n",
       "      <td>786.268279</td>\n",
       "    </tr>\n",
       "    <tr>\n",
       "      <th>146</th>\n",
       "      <td>6.3</td>\n",
       "      <td>2.5</td>\n",
       "      <td>5.0</td>\n",
       "      <td>1.9</td>\n",
       "      <td>1</td>\n",
       "      <td>0.097676</td>\n",
       "      <td>0.466216</td>\n",
       "      <td>0.436108</td>\n",
       "      <td>29.110238</td>\n",
       "      <td>834.025086</td>\n",
       "      <td>786.268279</td>\n",
       "    </tr>\n",
       "    <tr>\n",
       "      <th>147</th>\n",
       "      <td>6.5</td>\n",
       "      <td>3.0</td>\n",
       "      <td>5.2</td>\n",
       "      <td>2.0</td>\n",
       "      <td>1</td>\n",
       "      <td>0.064641</td>\n",
       "      <td>0.698666</td>\n",
       "      <td>0.236693</td>\n",
       "      <td>29.110238</td>\n",
       "      <td>834.025086</td>\n",
       "      <td>786.268279</td>\n",
       "    </tr>\n",
       "    <tr>\n",
       "      <th>148</th>\n",
       "      <td>6.2</td>\n",
       "      <td>3.4</td>\n",
       "      <td>5.4</td>\n",
       "      <td>2.3</td>\n",
       "      <td>1</td>\n",
       "      <td>0.093683</td>\n",
       "      <td>0.624896</td>\n",
       "      <td>0.281420</td>\n",
       "      <td>29.110238</td>\n",
       "      <td>834.025086</td>\n",
       "      <td>786.268279</td>\n",
       "    </tr>\n",
       "    <tr>\n",
       "      <th>149</th>\n",
       "      <td>5.9</td>\n",
       "      <td>3.0</td>\n",
       "      <td>5.1</td>\n",
       "      <td>1.8</td>\n",
       "      <td>2</td>\n",
       "      <td>0.099770</td>\n",
       "      <td>0.427048</td>\n",
       "      <td>0.473182</td>\n",
       "      <td>29.110238</td>\n",
       "      <td>834.025086</td>\n",
       "      <td>786.268279</td>\n",
       "    </tr>\n",
       "  </tbody>\n",
       "</table>\n",
       "<p>150 rows × 11 columns</p>\n",
       "</div>"
      ],
      "text/plain": [
       "     sepal_length  sepal_width  petal_length  petal_width  cluster        u1  \\\n",
       "0             5.1          3.5           1.4          0.2        0  0.915676   \n",
       "1             4.9          3.0           1.4          0.2        0  0.827251   \n",
       "2             4.7          3.2           1.3          0.2        0  0.835861   \n",
       "3             4.6          3.1           1.5          0.2        0  0.801531   \n",
       "4             5.0          3.6           1.4          0.2        0  0.894932   \n",
       "..            ...          ...           ...          ...      ...       ...   \n",
       "145           6.7          3.0           5.2          2.3        1  0.069029   \n",
       "146           6.3          2.5           5.0          1.9        1  0.097676   \n",
       "147           6.5          3.0           5.2          2.0        1  0.064641   \n",
       "148           6.2          3.4           5.4          2.3        1  0.093683   \n",
       "149           5.9          3.0           5.1          1.8        2  0.099770   \n",
       "\n",
       "           u2        u3          J           F          F2  \n",
       "0    0.034733  0.049591  29.110238  834.025086  786.268279  \n",
       "1    0.070570  0.102178  29.110238  834.025086  786.268279  \n",
       "2    0.067695  0.096444  29.110238  834.025086  786.268279  \n",
       "3    0.081068  0.117401  29.110238  834.025086  786.268279  \n",
       "4    0.043400  0.061669  29.110238  834.025086  786.268279  \n",
       "..        ...       ...        ...         ...         ...  \n",
       "145  0.715875  0.215096  29.110238  834.025086  786.268279  \n",
       "146  0.466216  0.436108  29.110238  834.025086  786.268279  \n",
       "147  0.698666  0.236693  29.110238  834.025086  786.268279  \n",
       "148  0.624896  0.281420  29.110238  834.025086  786.268279  \n",
       "149  0.427048  0.473182  29.110238  834.025086  786.268279  \n",
       "\n",
       "[150 rows x 11 columns]"
      ]
     },
     "execution_count": 5,
     "metadata": {},
     "output_type": "execute_result"
    }
   ],
   "source": [
    "df = pd.read_csv(\"./iris_csvFile/Iris-fcm.csv\")\n",
    "u = df.loc[:,\"u1\":\"u3\"].values\n",
    "X = df.loc[:,\"sepal_length\":\"petal_width\"].values\n",
    "F = df[\"F\"].values[0]\n",
    "J = df[\"J\"].values[0]\n",
    "cluster = df[\"cluster\"].values\n",
    "m = 3\n",
    "u_m = u**m\n",
    "X_size,dimension = X.shape\n",
    "df"
   ]
  },
  {
   "cell_type": "code",
   "execution_count": 18,
   "id": "31c83e84-dfd1-4c15-b508-bbb3cb7b58f6",
   "metadata": {},
   "outputs": [
    {
     "data": {
      "text/plain": [
       "array([[5.00106653, 3.38935647, 1.49425962, 0.25194824],\n",
       "       [6.69509539, 3.03751182, 5.55144409, 2.03544793],\n",
       "       [5.90997311, 2.79144758, 4.37839845, 1.39638155]])"
      ]
     },
     "execution_count": 18,
     "metadata": {},
     "output_type": "execute_result"
    }
   ],
   "source": [
    "v = v_calculation(u_m,c,dimension,X)\n",
    "v"
   ]
  },
  {
   "cell_type": "code",
   "execution_count": 19,
   "id": "69f75e29-1f78-4eb5-a613-d498d5a24812",
   "metadata": {},
   "outputs": [
    {
     "name": "stdout",
     "output_type": "stream",
     "text": [
      "center_distance\n",
      "[[ 0.         22.63514541 10.81159058]\n",
      " [22.63514541  0.          2.46140653]\n",
      " [10.81159058  2.46140653  0.        ]]\n",
      "d[0] [ 0.03361332 23.36158179 11.46028911]\n",
      "new_d[0] = d_{ki}+d_{ii*} [3.36133186e-02 4.59967272e+01 2.22718797e+01]\n",
      "Jの値: 29.11023838969788\n",
      "Jの値を再計算: 29.11023838969677\n",
      "F_1の値: 834.0250861732662\n",
      "F_2の値: 786.2682785314418\n"
     ]
    }
   ],
   "source": [
    "F_1,F_2,d,new_d = calc_F(c,cluster,X,v,m,u,\"fcm\")"
   ]
  },
  {
   "cell_type": "code",
   "execution_count": 29,
   "id": "5d3892aa-65c6-4217-bb75-9e9391c8f824",
   "metadata": {},
   "outputs": [
    {
     "data": {
      "text/plain": [
       "array([0.91567603, 0.03473333, 0.04959065])"
      ]
     },
     "execution_count": 29,
     "metadata": {},
     "output_type": "execute_result"
    }
   ],
   "source": [
    "u[0]"
   ]
  },
  {
   "cell_type": "code",
   "execution_count": 31,
   "id": "dbb80b69-cd55-442a-9cf9-1fee88e864cd",
   "metadata": {},
   "outputs": [
    {
     "data": {
      "text/plain": [
       "2.7328752672861913"
      ]
     },
     "execution_count": 31,
     "metadata": {},
     "output_type": "execute_result"
    }
   ],
   "source": [
    "np.sum(u[0]*new_d[0])"
   ]
  },
  {
   "cell_type": "code",
   "execution_count": 27,
   "id": "f3f049a1-d6e4-4e8a-9096-1346f194e11e",
   "metadata": {},
   "outputs": [
    {
     "data": {
      "text/plain": [
       "array([0.03077891, 1.59761946, 1.1044769 ])"
      ]
     },
     "execution_count": 27,
     "metadata": {},
     "output_type": "execute_result"
    }
   ],
   "source": [
    "u[0]*new_d[0]"
   ]
  },
  {
   "cell_type": "code",
   "execution_count": 32,
   "id": "cc70e69a-f93e-4120-ba44-5a444d679849",
   "metadata": {},
   "outputs": [
    {
     "data": {
      "text/plain": [
       "array([0.32357776, 0.22702545, 0.44939679])"
      ]
     },
     "execution_count": 32,
     "metadata": {},
     "output_type": "execute_result"
    }
   ],
   "source": [
    "u[57]"
   ]
  },
  {
   "cell_type": "code",
   "execution_count": 33,
   "id": "ffa43791-dd58-4e89-95ee-75e6c12e6dc7",
   "metadata": {},
   "outputs": [
    {
     "data": {
      "text/plain": [
       "array([4.80932041, 9.7699417 , 2.49333844])"
      ]
     },
     "execution_count": 33,
     "metadata": {},
     "output_type": "execute_result"
    }
   ],
   "source": [
    "d[57]"
   ]
  },
  {
   "cell_type": "code",
   "execution_count": 34,
   "id": "a1085b34-d509-42bd-823e-69de35c61d91",
   "metadata": {},
   "outputs": [
    {
     "data": {
      "text/plain": [
       "array([15.62091099, 12.23134823,  2.49333844])"
      ]
     },
     "execution_count": 34,
     "metadata": {},
     "output_type": "execute_result"
    }
   ],
   "source": [
    "new_d[57]"
   ]
  },
  {
   "cell_type": "code",
   "execution_count": 38,
   "id": "9c27f7c8-1405-4289-b433-50941a2e249d",
   "metadata": {},
   "outputs": [
    {
     "data": {
      "text/plain": [
       "array([1.55618911, 2.21802543, 1.12049829])"
      ]
     },
     "execution_count": 38,
     "metadata": {},
     "output_type": "execute_result"
    }
   ],
   "source": [
    "u[57]*d[57]"
   ]
  },
  {
   "cell_type": "code",
   "execution_count": 35,
   "id": "90bcdc53-1719-48b0-85d1-33aaabf90ec4",
   "metadata": {},
   "outputs": [
    {
     "data": {
      "text/plain": [
       "array([5.05457934, 2.77682736, 1.12049829])"
      ]
     },
     "execution_count": 35,
     "metadata": {},
     "output_type": "execute_result"
    }
   ],
   "source": [
    "u[57]*new_d[57]"
   ]
  },
  {
   "cell_type": "code",
   "execution_count": 39,
   "id": "67e4f806-eda5-466c-be3f-af4c85a8f54a",
   "metadata": {},
   "outputs": [
    {
     "data": {
      "text/plain": [
       "8.951904992927656"
      ]
     },
     "execution_count": 39,
     "metadata": {},
     "output_type": "execute_result"
    }
   ],
   "source": [
    "np.sum(u[57]*new_d[57])"
   ]
  },
  {
   "cell_type": "code",
   "execution_count": null,
   "id": "a8f474dd-2422-4aa1-985b-7f152d7961a1",
   "metadata": {},
   "outputs": [],
   "source": []
  }
 ],
 "metadata": {
  "kernelspec": {
   "display_name": "Python 3 (ipykernel)",
   "language": "python",
   "name": "python3"
  },
  "language_info": {
   "codemirror_mode": {
    "name": "ipython",
    "version": 3
   },
   "file_extension": ".py",
   "mimetype": "text/x-python",
   "name": "python",
   "nbconvert_exporter": "python",
   "pygments_lexer": "ipython3",
   "version": "3.9.16"
  }
 },
 "nbformat": 4,
 "nbformat_minor": 5
}
